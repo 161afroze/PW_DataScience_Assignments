{
 "cells": [
  {
   "cell_type": "markdown",
   "id": "68751251",
   "metadata": {},
   "source": [
    "## 1) explain the following:"
   ]
  },
  {
   "cell_type": "markdown",
   "id": "bb2fd44b",
   "metadata": {},
   "source": [
    "Artificial Intelligence : it is a field that uses the computer power to interpret result without involving any human comprehesion\n",
    "\n",
    "Machine Learning: it is a sub field of AI which allows computer to learn and predict the data without explicitly being programmed \n",
    "\n",
    "Deep Learning : it is a sub field of ML that mimics human brain performs calculatoins \n",
    "\n",
    "Artificial Intelligence (AI) is like a smart brain that mimics human intelligence. Machine Learning (ML) is a subset of AI where computers learn from data to make decisions or predictions without being explicitly programmed. It's like a student learning from examples to solve problems. Deep Learning (DL) is a subset of ML inspired by the structure of the human brain, using neural networks with many layers to process complex data. It's like breaking down a big problem into smaller tasks and solving them step by step, with each step influencing the next one. In essence, AI is the big picture, ML is a method within it, and DL is a specific technique within ML."
   ]
  },
  {
   "cell_type": "markdown",
   "id": "a7e65b48",
   "metadata": {},
   "source": [
    "## 2) What is supervised learning? list some examples of supervised learning"
   ]
  },
  {
   "cell_type": "markdown",
   "id": "f4c4d6f6",
   "metadata": {},
   "source": [
    "Supervised learning is a one among the machine learning models where it interpret the outputs based on the data it has . the labels are given( input and output) the model tries to learn mapping of input and output and finally for new data it tries to predict the output based on the previous data is has been analyzed \n",
    "\n",
    "examples of supervised learning:\n",
    "    EMAIL  filtering or spam email recognition is the example of supervised learnign "
   ]
  },
  {
   "cell_type": "markdown",
   "id": "a14390d3",
   "metadata": {},
   "source": [
    "## 3) What is unuspervised learning? list some examples of unsupervised learning"
   ]
  },
  {
   "cell_type": "markdown",
   "id": "ef188585",
   "metadata": {},
   "source": [
    "Unsupervised learning is the second type of machine learning model where the model finds the clusters. the data is divided into number of clusters . here it does not find any output for the dataset instead it creates few individaul groups having some kind of similarities or any following pattern \n",
    "\n",
    "examples of Unsupervised learning:\n",
    "    social network analysis "
   ]
  },
  {
   "cell_type": "markdown",
   "id": "76175421",
   "metadata": {},
   "source": [
    "## 4) What is the difference between AI, ML, DL, and DS?"
   ]
  },
  {
   "cell_type": "markdown",
   "id": "886f0592",
   "metadata": {},
   "source": [
    "AI (Artificial Intelligence) is a broad field focused on creating systems that can perform tasks requiring human-like intelligence. This includes understanding natural language, recognizing images, making decisions, and solving problems.\n",
    "\n",
    "ML (Machine Learning) is a subset of AI where algorithms learn patterns from data and make predictions or decisions without being explicitly programmed. It's like training a model to recognize spam emails based on examples of both spam and non-spam emails.\n",
    "\n",
    "DL (Deep Learning) is a subset of ML that uses neural networks with many layers (hence \"deep\") to process complex data. DL excels in tasks like image and speech recognition, natural language processing, and autonomous driving.\n",
    "\n",
    "DS (Data Science) is a broader discipline that encompasses various techniques and tools used to extract insights and knowledge from data. It includes ML and DL but also incorporates statistics, data visualization, data mining, and other methodologies to analyze and interpret data for decision-making purposes."
   ]
  },
  {
   "cell_type": "markdown",
   "id": "3a3bbd2f",
   "metadata": {},
   "source": [
    "## 5) what are the main differences between supervised , unsupervised and semi supervised learning?"
   ]
  },
  {
   "cell_type": "markdown",
   "id": "8df2bfe6",
   "metadata": {},
   "source": [
    "The main differences between supervised, unsupervised, and semi-supervised learning lie in how they utilize labeled or unlabeled data:\n",
    "\n",
    "1. Supervised Learning:\n",
    "   - In supervised learning, the algorithm is trained on a labeled dataset, where each input data point is paired with its corresponding output label.\n",
    "   - The goal is to learn a mapping from inputs to outputs, allowing the algorithm to predict the correct output for new, unseen inputs.\n",
    "   - Examples include classification (predicting categories) and regression (predicting continuous values).\n",
    "\n",
    "2. Unsupervised Learning:\n",
    "   - Unsupervised learning deals with unlabeled data, where the algorithm tries to find patterns or structure in the data without explicit guidance.\n",
    "   - It discovers hidden structures or relationships within the data, such as clustering similar data points together or dimensionality reduction.\n",
    "   - Examples include clustering algorithms like k-means and dimensionality reduction techniques like principal component analysis (PCA).\n",
    "\n",
    "3. Semi-Supervised Learning:\n",
    "   - Semi-supervised learning combines elements of both supervised and unsupervised learning.\n",
    "   - It leverages a small amount of labeled data along with a larger amount of unlabeled data for training.\n",
    "   - The labeled data helps guide the learning process, while the unlabeled data allows the algorithm to generalize and learn more about the underlying structure of the data.\n",
    "   - Semi-supervised learning is useful when acquiring labeled data is expensive or time-consuming but unlabeled data is plentiful.\n",
    "\n",
    "In summary, supervised learning requires labeled data for training, unsupervised learning works with unlabeled data to find patterns, and semi-supervised learning uses a combination of labeled and unlabeled data for training."
   ]
  },
  {
   "cell_type": "markdown",
   "id": "b4956634",
   "metadata": {},
   "source": [
    "## 6) What is train, test and validation split? Explain the importancK of each term."
   ]
  },
  {
   "cell_type": "markdown",
   "id": "5b15a1a8",
   "metadata": {},
   "source": [
    "train: dataset that is used to explain the model \n",
    "\n",
    "test : the dataset that is not known by the model and it need to perfectly find the output for this , if it does then the model created is successfull \n",
    "\n",
    "valiation split: This validation dataset is  Like the dataset where we Tweak or tuning  with the dataset and test We apply changes to the dataset And see how does it work \n"
   ]
  },
  {
   "cell_type": "markdown",
   "id": "67e5c1e1",
   "metadata": {},
   "source": [
    "## 7) How can unsuperrvisedd learning be used in anomaly detection?"
   ]
  },
  {
   "cell_type": "markdown",
   "id": "27dd7c8c",
   "metadata": {},
   "source": [
    "the principle of unsupervised learning is to create clusters. so the model need to create clusters and finding pattern in it \n",
    "\n",
    "it firstly need to find the clusters, then it should find the outliers in it , now when the model is working fine with proper data\n",
    "whenever a anomaly will occur then it will warn regarding it .\n",
    "\n",
    "Hence this way we can use ML model to find the anomaly \n",
    "\n",
    "\n",
    "Sure! Let's imagine you have a bunch of data, like temperatures recorded every day. Now, you want to find out if there are any unusual patterns in this data without having to tell the computer what exactly to look for. This is where unsupervised machine learning comes in handy, especially for detecting anomalies, or things that are different from the usual.\n",
    "\n",
    "Here's how it works:\n",
    "\n",
    "1. **Finding Clusters**: Imagine plotting all the temperatures on a graph. Some days might have similar temperatures, forming groups or clusters. Unsupervised learning algorithms can automatically find these groups without you telling it anything about the data.\n",
    "\n",
    "2. **Identifying Outliers**: Once the algorithm has grouped the data into clusters, it can then look for points that don't fit well into any cluster. These are the outliers or anomalies. For example, if most days fall into a cluster with temperatures between 20°C and 30°C, a day with a temperature of 5°C or 40°C might be flagged as an anomaly.\n",
    "\n",
    "3. **Alerting for Unusual Events**: By identifying these anomalies, you can set up the system to alert you whenever something unusual happens, like a sudden temperature spike or drop, which might indicate a problem that needs attention.\n",
    "\n",
    "In simple terms, unsupervised machine learning helps the computer to automatically find patterns in data without you having to tell it exactly what to look for. It can then spot things that don't fit those patterns, which could be anomalies or unusual events. It's like having a smart assistant who can highlight anything out of the ordinary in your data without needing much guidance from you."
   ]
  },
  {
   "cell_type": "markdown",
   "id": "64dd5b20",
   "metadata": {},
   "source": [
    "## 8) List down some  commonly used supervised learning algorithms and unsupervised learning algorithms?"
   ]
  },
  {
   "cell_type": "markdown",
   "id": "087a298b",
   "metadata": {},
   "source": [
    "the Supervised learning algorithms are :\n",
    "    Linear Regression\n",
    "    Logistic Regression \n",
    "    Support vector machine \n",
    "    random forest \n",
    "    decision tree\n",
    "\n",
    "\n",
    "the Unsupervised learning algorithms are :\n",
    "    K means clustering \n",
    "    DBscan \n",
    "    PCA principal component analysis\n",
    "    Heirarical Clustering"
   ]
  },
  {
   "cell_type": "markdown",
   "id": "4cc3b4c9",
   "metadata": {},
   "source": []
  },
  {
   "cell_type": "markdown",
   "id": "3252e0d6",
   "metadata": {},
   "source": []
  }
 ],
 "metadata": {
  "language_info": {
   "name": "python"
  }
 },
 "nbformat": 4,
 "nbformat_minor": 5
}
