{
 "cells": [
  {
   "cell_type": "markdown",
   "id": "2332b0e5",
   "metadata": {},
   "source": [
    "## Q1. What is an API? Give an example, where an API is used in real life.\n",
    "\n"
   ]
  },
  {
   "cell_type": "markdown",
   "id": "a8e3faaa",
   "metadata": {},
   "source": [
    " API stands for application programming interface. it establish the communcatio between two system . It helps to exchange between two system either be homogenous system or heterogenous systems"
   ]
  },
  {
   "cell_type": "markdown",
   "id": "88f59fb0",
   "metadata": {},
   "source": [
    "## Q2. Give advantages and disadvantages of using API."
   ]
  },
  {
   "cell_type": "markdown",
   "id": "685de055",
   "metadata": {},
   "source": [
    "APIs (Application Programming Interfaces) offer numerous advantages such as enabling seamless integration between different software systems, fostering innovation through developer collaboration, and facilitating the creation of scalable and modular architectures. They enhance productivity by providing standardized methods for accessing and manipulating data or services. However, APIs also pose challenges, including security risks due to potential vulnerabilities in exposed endpoints, dependency concerns if APIs change or are deprecated, and interoperability issues when integrating with diverse platforms. Additionally, inadequate documentation or poor design can hinder usability and adoption, highlighting the importance of robust API management practices for successful implementation."
   ]
  },
  {
   "cell_type": "markdown",
   "id": "91223e96",
   "metadata": {},
   "source": [
    "## Q3. What is a Web API? Differentiate between API and Web API."
   ]
  },
  {
   "cell_type": "markdown",
   "id": "834fe347",
   "metadata": {},
   "source": [
    "WEB API , when the API follows the HTTP protocol then it is called as WEB API , and generally other API can follow other any of the protocols like TCP SMTP etcm"
   ]
  },
  {
   "cell_type": "markdown",
   "id": "c7295228",
   "metadata": {},
   "source": [
    "\n",
    "## Q4. Explain REST and SOAP Architecture. Mention shortcomings of SOAP."
   ]
  },
  {
   "cell_type": "markdown",
   "id": "f71cc626",
   "metadata": {},
   "source": [
    "REST stands for representional state transfer API which is a WEB API  and \n",
    "\n",
    "SOAP stands for simple object accept protocol that is not a WEB API and works on the TCP or SMTP protocol"
   ]
  },
  {
   "cell_type": "markdown",
   "id": "af94e51c",
   "metadata": {},
   "source": [
    "## Q5. Differentiate between REST and SOAP."
   ]
  },
  {
   "cell_type": "markdown",
   "id": "5564b25c",
   "metadata": {},
   "source": [
    "REST (Representational State Transfer) and SOAP (Simple Object Access Protocol) are both protocols used for communication between systems over the internet. REST relies on standard HTTP methods like GET, POST, PUT, DELETE for data exchange, often using JSON or XML for data representation. It emphasizes stateless communication and leverages existing web infrastructure. Conversely, SOAP is a protocol that uses XML for message format and relies on XML-based schemas for data exchange. It typically operates over HTTP, SMTP, or other transport protocols and includes extensive standards for security and transaction handling, making it more rigid and complex compared to REST."
   ]
  },
  {
   "cell_type": "code",
   "execution_count": null,
   "id": "7d1edbf9",
   "metadata": {},
   "outputs": [],
   "source": []
  }
 ],
 "metadata": {
  "kernelspec": {
   "display_name": "Python 3 (ipykernel)",
   "language": "python",
   "name": "python3"
  },
  "language_info": {
   "codemirror_mode": {
    "name": "ipython",
    "version": 3
   },
   "file_extension": ".py",
   "mimetype": "text/x-python",
   "name": "python",
   "nbconvert_exporter": "python",
   "pygments_lexer": "ipython3",
   "version": "3.10.9"
  }
 },
 "nbformat": 4,
 "nbformat_minor": 5
}
