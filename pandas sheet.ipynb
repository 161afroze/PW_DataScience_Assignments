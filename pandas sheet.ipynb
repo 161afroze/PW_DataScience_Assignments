{
 "cells": [
  {
   "cell_type": "markdown",
   "id": "fd6f0ca6",
   "metadata": {},
   "source": [
    "# Q1. List any five functions of the pandas library with execution."
   ]
  },
  {
   "cell_type": "code",
   "execution_count": 5,
   "id": "b83a0645",
   "metadata": {},
   "outputs": [
    {
     "data": {
      "text/html": [
       "<div>\n",
       "<style scoped>\n",
       "    .dataframe tbody tr th:only-of-type {\n",
       "        vertical-align: middle;\n",
       "    }\n",
       "\n",
       "    .dataframe tbody tr th {\n",
       "        vertical-align: top;\n",
       "    }\n",
       "\n",
       "    .dataframe thead th {\n",
       "        text-align: right;\n",
       "    }\n",
       "</style>\n",
       "<table border=\"1\" class=\"dataframe\">\n",
       "  <thead>\n",
       "    <tr style=\"text-align: right;\">\n",
       "      <th></th>\n",
       "      <th>EMPLOYEE_ID</th>\n",
       "      <th>FIRST_NAME</th>\n",
       "      <th>LAST_NAME</th>\n",
       "      <th>EMAIL</th>\n",
       "      <th>PHONE_NUMBER</th>\n",
       "      <th>HIRE_DATE</th>\n",
       "      <th>JOB_ID</th>\n",
       "      <th>SALARY</th>\n",
       "      <th>COMMISSION_PCT</th>\n",
       "      <th>MANAGER_ID</th>\n",
       "      <th>DEPARTMENT_ID</th>\n",
       "    </tr>\n",
       "  </thead>\n",
       "  <tbody>\n",
       "    <tr>\n",
       "      <th>47</th>\n",
       "      <td>138</td>\n",
       "      <td>Stephen</td>\n",
       "      <td>Stiles</td>\n",
       "      <td>SSTILES</td>\n",
       "      <td>650.121.2034</td>\n",
       "      <td>26-OCT-05</td>\n",
       "      <td>ST_CLERK</td>\n",
       "      <td>3200</td>\n",
       "      <td>-</td>\n",
       "      <td>123</td>\n",
       "      <td>50</td>\n",
       "    </tr>\n",
       "    <tr>\n",
       "      <th>48</th>\n",
       "      <td>139</td>\n",
       "      <td>John</td>\n",
       "      <td>Seo</td>\n",
       "      <td>JSEO</td>\n",
       "      <td>650.121.2019</td>\n",
       "      <td>12-FEB-06</td>\n",
       "      <td>ST_CLERK</td>\n",
       "      <td>2700</td>\n",
       "      <td>-</td>\n",
       "      <td>123</td>\n",
       "      <td>50</td>\n",
       "    </tr>\n",
       "    <tr>\n",
       "      <th>49</th>\n",
       "      <td>140</td>\n",
       "      <td>Joshua</td>\n",
       "      <td>Patel</td>\n",
       "      <td>JPATEL</td>\n",
       "      <td>650.121.1834</td>\n",
       "      <td>06-APR-06</td>\n",
       "      <td>ST_CLERK</td>\n",
       "      <td>2500</td>\n",
       "      <td>-</td>\n",
       "      <td>123</td>\n",
       "      <td>50</td>\n",
       "    </tr>\n",
       "  </tbody>\n",
       "</table>\n",
       "</div>"
      ],
      "text/plain": [
       "    EMPLOYEE_ID FIRST_NAME LAST_NAME    EMAIL  PHONE_NUMBER  HIRE_DATE  \\\n",
       "47          138    Stephen    Stiles  SSTILES  650.121.2034  26-OCT-05   \n",
       "48          139       John       Seo     JSEO  650.121.2019  12-FEB-06   \n",
       "49          140     Joshua     Patel   JPATEL  650.121.1834  06-APR-06   \n",
       "\n",
       "      JOB_ID  SALARY COMMISSION_PCT MANAGER_ID  DEPARTMENT_ID  \n",
       "47  ST_CLERK    3200             -         123             50  \n",
       "48  ST_CLERK    2700             -         123             50  \n",
       "49  ST_CLERK    2500             -         123             50  "
      ]
     },
     "execution_count": 5,
     "metadata": {},
     "output_type": "execute_result"
    }
   ],
   "source": [
    "#the five functions of the pandas library are as follows\n",
    "\n",
    "#first one is - read_csv() \n",
    "import pandas as pd\n",
    "df=pd.read_csv('C:\\\\Users\\\\161sh\\\\Desktop\\\\employees.csv')\n",
    "\n",
    "\n",
    "# second function is \n",
    "df.dropna(axis=1)\n",
    "\n",
    "\n",
    "# third function is \n",
    "df.loc[0]\n",
    "\n",
    "# fourth function is \n",
    "df.head(3)\n",
    "\n",
    "# fivth function is \n",
    "df.tail(3)"
   ]
  },
  {
   "cell_type": "markdown",
   "id": "6df91d6f",
   "metadata": {},
   "source": [
    "## Q2. Given a Pandas DataFrame df with columns 'A', 'B', and 'C', write a Python function to re-index the DataFrame with a new index that starts from 1 and increments by 2 for each row."
   ]
  },
  {
   "cell_type": "code",
   "execution_count": 6,
   "id": "35c92af1",
   "metadata": {},
   "outputs": [],
   "source": [
    "import numpy as np \n",
    "\n",
    "#creating a dataframe and naming the custom columns \n",
    "df1=pd.DataFrame(np.zeros((3,3),int) , columns=['A','B','C'])\n",
    "\n",
    "#setting another index to it \n",
    "\n",
    "newIndex=pd.Index(range(0,2*len(df1),2))\n",
    "df1.set_index(newIndex,inplace=True)"
   ]
  },
  {
   "cell_type": "markdown",
   "id": "9390e982",
   "metadata": {},
   "source": [
    "## Q3. You have a Pandas DataFrame df with a column named 'Values'. Write a Python function that iterates over the DataFrame and calculates the sum of the first three values in the 'Values' column. Thefunction should print the sum to the console."
   ]
  },
  {
   "cell_type": "markdown",
   "id": "09a71237",
   "metadata": {},
   "source": []
  },
  {
   "cell_type": "code",
   "execution_count": 86,
   "id": "8d5b06b3",
   "metadata": {},
   "outputs": [
    {
     "name": "stdout",
     "output_type": "stream",
     "text": [
      "    names  amount\n",
      "0  alice      100\n",
      "1    bob      200\n",
      "2   maddy     300\n",
      "The sum of first threr rows is 600\n"
     ]
    }
   ],
   "source": [
    "df2=pd.read_csv('C:\\\\Users\\\\161sh\\\\Desktop\\\\q3 question.csv')\n",
    "# DataFrame is created and we need to apply the sum operation\n",
    "\n",
    "print(df2.head(3))\n",
    "\n",
    "# value variable holds the sum of first 3 rows \n",
    "value=df2['amount'][:3].sum()\n",
    "print(f\"The sum of first threr rows is {value}\")"
   ]
  },
  {
   "cell_type": "markdown",
   "id": "01e67a34",
   "metadata": {},
   "source": [
    "## Q4. Given a Pandas DataFrame df with a column 'Text', write a Python function to create a new column'Word_Count' that contains the number of words in each row of the 'Text' column."
   ]
  },
  {
   "cell_type": "markdown",
   "id": "5ac6a42c",
   "metadata": {},
   "source": [
    "print(\"yes)"
   ]
  },
  {
   "cell_type": "code",
   "execution_count": 144,
   "id": "25dc87e1",
   "metadata": {},
   "outputs": [
    {
     "data": {
      "text/html": [
       "<div>\n",
       "<style scoped>\n",
       "    .dataframe tbody tr th:only-of-type {\n",
       "        vertical-align: middle;\n",
       "    }\n",
       "\n",
       "    .dataframe tbody tr th {\n",
       "        vertical-align: top;\n",
       "    }\n",
       "\n",
       "    .dataframe thead th {\n",
       "        text-align: right;\n",
       "    }\n",
       "</style>\n",
       "<table border=\"1\" class=\"dataframe\">\n",
       "  <thead>\n",
       "    <tr style=\"text-align: right;\">\n",
       "      <th></th>\n",
       "      <th>a</th>\n",
       "      <th>b</th>\n",
       "      <th>c</th>\n",
       "    </tr>\n",
       "  </thead>\n",
       "  <tbody>\n",
       "    <tr>\n",
       "      <th>0</th>\n",
       "      <td>100</td>\n",
       "      <td>afroze</td>\n",
       "      <td>1</td>\n",
       "    </tr>\n",
       "    <tr>\n",
       "      <th>1</th>\n",
       "      <td>200</td>\n",
       "      <td>afr</td>\n",
       "      <td>2</td>\n",
       "    </tr>\n",
       "    <tr>\n",
       "      <th>2</th>\n",
       "      <td>300</td>\n",
       "      <td>shaa</td>\n",
       "      <td>3</td>\n",
       "    </tr>\n",
       "  </tbody>\n",
       "</table>\n",
       "</div>"
      ],
      "text/plain": [
       "     a       b  c\n",
       "0  100  afroze  1\n",
       "1  200     afr  2\n",
       "2  300    shaa  3"
      ]
     },
     "execution_count": 144,
     "metadata": {},
     "output_type": "execute_result"
    }
   ],
   "source": [
    "import pandas as pd\n",
    "p=pd.DataFrame([[100,\"afroze\",1],[200,\"afr\",2],[300,\"shaa\",3]],columns=['a','b','c'])\n",
    "\n",
    "def coutner(a):\n",
    "    return len(a)\n",
    "p['len of names ']=p['b'].apply(coutner)"
   ]
  },
  {
   "cell_type": "markdown",
   "id": "1df45153",
   "metadata": {},
   "source": [
    "##  Q5. How are DataFrame.size() and DataFrame.shape() different?"
   ]
  },
  {
   "cell_type": "markdown",
   "id": "0accba29",
   "metadata": {},
   "source": [
    "size gives the number of elements present in the data frame\n",
    "while shape gives the structure of the data frame \n"
   ]
  },
  {
   "cell_type": "markdown",
   "id": "2d6ee637",
   "metadata": {},
   "source": [
    "## Q6. Which function of pandas do we use to read an excel file?"
   ]
  },
  {
   "cell_type": "markdown",
   "id": "c366014c",
   "metadata": {},
   "source": [
    " pandas.read_excel() "
   ]
  },
  {
   "cell_type": "markdown",
   "id": "dea3fe3e",
   "metadata": {},
   "source": [
    "## Q7. You have a Pandas DataFrame df that contains a column named 'Email' that contains emailaddresses in the format 'username@domain.com'. Write a Python function that creates a new column'Username' in df that contains only the username part of each email address."
   ]
  },
  {
   "cell_type": "code",
   "execution_count": 162,
   "id": "cc180d4b",
   "metadata": {},
   "outputs": [
    {
     "name": "stdout",
     "output_type": "stream",
     "text": [
      "-----------before-----------\n",
      "               gmail\n",
      "0  161shaa@gmail.com\n",
      "1      pqr@gmail.com\n",
      "2      abc@gmail.com\n",
      "-----------after-----------\n",
      "               gmail    names\n",
      "0  161shaa@gmail.com  161shaa\n",
      "1      pqr@gmail.com      pqr\n",
      "2      abc@gmail.com      abc\n"
     ]
    }
   ],
   "source": [
    "df=pd.DataFrame([['161shaa@gmail.com'],['pqr@gmail.com'],['abc@gmail.com']],columns=['gmail'])\n",
    "print(\"-----------before-----------\")\n",
    "print(df)\n",
    "def extract(x):\n",
    "    value=x.index(\"@\")\n",
    "    return x[0:value]\n",
    "df['names']=df['gmail'].apply(extract)\n",
    "print(\"-----------after-----------\")\n",
    "print(df)"
   ]
  },
  {
   "cell_type": "markdown",
   "id": "44f3e9e3",
   "metadata": {},
   "source": [
    "## Q8. You have a Pandas DataFrame df with columns 'A', 'B', and 'C'. Write a Python function that selectsall rows where the value in column 'A' is greater than 5 and the value in column 'B' is less than 10. Thefunction should return a new DataFrame that contains only the selected rows."
   ]
  },
  {
   "cell_type": "code",
   "execution_count": 16,
   "id": "d1e36701",
   "metadata": {},
   "outputs": [
    {
     "data": {
      "text/html": [
       "<div>\n",
       "<style scoped>\n",
       "    .dataframe tbody tr th:only-of-type {\n",
       "        vertical-align: middle;\n",
       "    }\n",
       "\n",
       "    .dataframe tbody tr th {\n",
       "        vertical-align: top;\n",
       "    }\n",
       "\n",
       "    .dataframe thead th {\n",
       "        text-align: right;\n",
       "    }\n",
       "</style>\n",
       "<table border=\"1\" class=\"dataframe\">\n",
       "  <thead>\n",
       "    <tr style=\"text-align: right;\">\n",
       "      <th></th>\n",
       "      <th>a</th>\n",
       "      <th>b</th>\n",
       "      <th>c</th>\n",
       "      <th>d</th>\n",
       "    </tr>\n",
       "  </thead>\n",
       "  <tbody>\n",
       "    <tr>\n",
       "      <th>1</th>\n",
       "      <td>1</td>\n",
       "      <td>8</td>\n",
       "      <td>2</td>\n",
       "      <td>7</td>\n",
       "    </tr>\n",
       "    <tr>\n",
       "      <th>2</th>\n",
       "      <td>2</td>\n",
       "      <td>6</td>\n",
       "      <td>9</td>\n",
       "      <td>4</td>\n",
       "    </tr>\n",
       "    <tr>\n",
       "      <th>4</th>\n",
       "      <td>4</td>\n",
       "      <td>9</td>\n",
       "      <td>1</td>\n",
       "      <td>2</td>\n",
       "    </tr>\n",
       "  </tbody>\n",
       "</table>\n",
       "</div>"
      ],
      "text/plain": [
       "   a  b  c  d\n",
       "1  1  8  2  7\n",
       "2  2  6  9  4\n",
       "4  4  9  1  2"
      ]
     },
     "execution_count": 16,
     "metadata": {},
     "output_type": "execute_result"
    }
   ],
   "source": [
    "\n",
    "import pandas as pd\n",
    "df=pd.DataFrame(\n",
    "\n",
    "    [\n",
    "[0 , 3 ,  5 ,  1],\n",
    "\n",
    "[1  ,8   ,2   ,7],\n",
    "\n",
    "[2  ,6  , 9 ,  4],\n",
    "\n",
    "[3 , 2 ,  3   ,5],\n",
    "\n",
    "[4  ,9  , 1   ,2]\n",
    "\n",
    "    ] ,columns=['a','b','c','d'])\n",
    "\n",
    "df[(df['b']>5 )& (df['c']<10)]\n"
   ]
  },
  {
   "cell_type": "code",
   "execution_count": 15,
   "id": "f9c2ffb4",
   "metadata": {},
   "outputs": [
    {
     "data": {
      "text/html": [
       "<div>\n",
       "<style scoped>\n",
       "    .dataframe tbody tr th:only-of-type {\n",
       "        vertical-align: middle;\n",
       "    }\n",
       "\n",
       "    .dataframe tbody tr th {\n",
       "        vertical-align: top;\n",
       "    }\n",
       "\n",
       "    .dataframe thead th {\n",
       "        text-align: right;\n",
       "    }\n",
       "</style>\n",
       "<table border=\"1\" class=\"dataframe\">\n",
       "  <thead>\n",
       "    <tr style=\"text-align: right;\">\n",
       "      <th></th>\n",
       "      <th>a</th>\n",
       "      <th>b</th>\n",
       "      <th>c</th>\n",
       "      <th>d</th>\n",
       "    </tr>\n",
       "  </thead>\n",
       "  <tbody>\n",
       "    <tr>\n",
       "      <th>1</th>\n",
       "      <td>1</td>\n",
       "      <td>8</td>\n",
       "      <td>2</td>\n",
       "      <td>7</td>\n",
       "    </tr>\n",
       "    <tr>\n",
       "      <th>2</th>\n",
       "      <td>2</td>\n",
       "      <td>6</td>\n",
       "      <td>9</td>\n",
       "      <td>4</td>\n",
       "    </tr>\n",
       "    <tr>\n",
       "      <th>4</th>\n",
       "      <td>4</td>\n",
       "      <td>9</td>\n",
       "      <td>1</td>\n",
       "      <td>2</td>\n",
       "    </tr>\n",
       "  </tbody>\n",
       "</table>\n",
       "</div>"
      ],
      "text/plain": [
       "   a  b  c  d\n",
       "1  1  8  2  7\n",
       "2  2  6  9  4\n",
       "4  4  9  1  2"
      ]
     },
     "execution_count": 15,
     "metadata": {},
     "output_type": "execute_result"
    }
   ],
   "source": []
  },
  {
   "cell_type": "code",
   "execution_count": null,
   "id": "cef0997d",
   "metadata": {},
   "outputs": [],
   "source": []
  }
 ],
 "metadata": {
  "kernelspec": {
   "display_name": "Python 3 (ipykernel)",
   "language": "python",
   "name": "python3"
  },
  "language_info": {
   "codemirror_mode": {
    "name": "ipython",
    "version": 3
   },
   "file_extension": ".py",
   "mimetype": "text/x-python",
   "name": "python",
   "nbconvert_exporter": "python",
   "pygments_lexer": "ipython3",
   "version": "3.11.1"
  }
 },
 "nbformat": 4,
 "nbformat_minor": 5
}
