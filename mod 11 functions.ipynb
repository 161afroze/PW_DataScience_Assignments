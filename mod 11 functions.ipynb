{
 "cells": [
  {
   "cell_type": "markdown",
   "id": "b572b369",
   "metadata": {},
   "source": [
    "### 1) Which keyword is used to create a function? Create a function to return a list of odd numbers in therange of 1 to 25.\n"
   ]
  },
  {
   "cell_type": "markdown",
   "id": "8024497a",
   "metadata": {},
   "source": [
    " the keyword is used to create a function is \" DEF \" "
   ]
  },
  {
   "cell_type": "code",
   "execution_count": 7,
   "id": "7a20da17",
   "metadata": {},
   "outputs": [
    {
     "name": "stdout",
     "output_type": "stream",
     "text": [
      "[1, 3, 5, 7, 9, 11, 13, 15, 17, 19, 21, 23, 25]\n"
     ]
    }
   ],
   "source": [
    "def number():\n",
    "    return list(filter(lambda x : x%2!=0 , range(1,26)))\n",
    "\n",
    "var=number()\n",
    "print(var)\n"
   ]
  },
  {
   "cell_type": "markdown",
   "id": "f84664b9",
   "metadata": {},
   "source": [
    "### 2) Why *args and **kwargs is used in some functions? Create a function each for *args and **kwargs to demonstrate their use."
   ]
  },
  {
   "cell_type": "markdown",
   "id": "5ec137e2",
   "metadata": {},
   "source": [
    "*args stands for arbitary arguments  and \n",
    "\n",
    "**kwargs stands for keyword arbitary used only key-pair arguments"
   ]
  },
  {
   "cell_type": "code",
   "execution_count": 9,
   "id": "f5b84363",
   "metadata": {},
   "outputs": [
    {
     "name": "stdout",
     "output_type": "stream",
     "text": [
      "(2, 3, 4, 5, 2, 3, 4, 5)\n",
      "('shaaa', 'afroze', 'shaaa', 'afroze')\n"
     ]
    }
   ],
   "source": [
    "def args_function(*args):\n",
    "    return args*2\n",
    "\n",
    "print(args_function(2,3,4,5))\n",
    "print(args_function(\"shaaa\",\"afroze\"))"
   ]
  },
  {
   "cell_type": "code",
   "execution_count": 11,
   "id": "c0ea9d28",
   "metadata": {},
   "outputs": [
    {
     "name": "stdout",
     "output_type": "stream",
     "text": [
      "{'a': 19, 'b': 20}\n",
      "{'a': 'shaa', 'b': 'afroze'}\n"
     ]
    }
   ],
   "source": [
    "def args_function(**args):\n",
    "    return args\n",
    "\n",
    "print(args_function(a=19,b=20))\n",
    "print(args_function(a='shaa',b='afroze'))"
   ]
  },
  {
   "cell_type": "markdown",
   "id": "f4bb2fb3",
   "metadata": {},
   "source": [
    "### 3)What is an iterator in python? Name the method used to initialise the iterator object and the methodused for iteration. Use these methods to print the first five elements of the given list [2, 4, 6, 8, 10, 12, 14, 16,18, 20]."
   ]
  },
  {
   "cell_type": "code",
   "execution_count": 12,
   "id": "42e129be",
   "metadata": {},
   "outputs": [
    {
     "name": "stdout",
     "output_type": "stream",
     "text": [
      "['1', '2', '3', '4', '5', '6', '7', '8', '9', '10']\n"
     ]
    }
   ],
   "source": []
  },
  {
   "cell_type": "markdown",
   "id": "fef11f02",
   "metadata": {},
   "source": [
    "### 4) What is a generator function in python? Why yield keyword is used? Give an example of a generatorfunction."
   ]
  },
  {
   "cell_type": "markdown",
   "id": "8f2dc597",
   "metadata": {},
   "source": [
    "A Python generator function allows you to declare a function that behaves like an iterator, providing a faster and easier way to create iterators. They can be used on an abstract container of data to turn it into an iterable object like lists, dictionaries and strings.\n",
    "\n",
    "\n",
    "\n",
    "The yield keyword is used in Python to create generator functions, which produce a sequence of values one at a time, as needed. The yield keyword pauses the generator function's execution and returns the value of the expression following it to the generator's caller."
   ]
  },
  {
   "cell_type": "code",
   "execution_count": 17,
   "id": "81a216f1",
   "metadata": {},
   "outputs": [
    {
     "name": "stdout",
     "output_type": "stream",
     "text": [
      "0\n",
      "1\n",
      "4\n"
     ]
    }
   ],
   "source": [
    "def function(number):\n",
    "\n",
    "    for i in range(number):\n",
    "        yield i*i\n",
    "\n",
    "obj_fucntion=function(10)\n",
    "print(next(obj_fucntion))\n",
    "print(next(obj_fucntion))\n",
    "print(next(obj_fucntion))\n"
   ]
  },
  {
   "cell_type": "markdown",
   "id": "c3d136c5",
   "metadata": {},
   "source": [
    "### 5) Create a generator function for prime numbers less than 1000. Use the next() method to print thefirst 20 prime numbers."
   ]
  },
  {
   "cell_type": "code",
   "execution_count": 18,
   "id": "792cc1b1",
   "metadata": {},
   "outputs": [
    {
     "name": "stdout",
     "output_type": "stream",
     "text": [
      "0 1 2 3 4 5 6 7 8 9 10 11 12 13 14 15 16 17 18 19 "
     ]
    }
   ],
   "source": [
    "def generate():\n",
    "    \n",
    "    for i in range(1000):\n",
    "        yield i\n",
    "\n",
    "generator_object=generate()\n",
    "\n",
    "for i in range(20):\n",
    "    print(next(generator_object),end=\" \")"
   ]
  },
  {
   "cell_type": "code",
   "execution_count": null,
   "id": "def1b39a",
   "metadata": {},
   "outputs": [],
   "source": []
  }
 ],
 "metadata": {
  "kernelspec": {
   "display_name": "Python 3",
   "language": "python",
   "name": "python3"
  },
  "language_info": {
   "codemirror_mode": {
    "name": "ipython",
    "version": 3
   },
   "file_extension": ".py",
   "mimetype": "text/x-python",
   "name": "python",
   "nbconvert_exporter": "python",
   "pygments_lexer": "ipython3",
   "version": "3.11.1"
  }
 },
 "nbformat": 4,
 "nbformat_minor": 5
}
