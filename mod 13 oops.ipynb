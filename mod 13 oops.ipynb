{
 "cells": [
  {
   "cell_type": "markdown",
   "id": "515dfafc",
   "metadata": {},
   "source": [
    "Q1. Explain Class and Object with respect to Object-Oriented Programming. Give a suitable example.\n",
    "Q2. Name the four pillars of OOPs.\n",
    "Q3. Explain why the __init__() function is used. Give a suitable example.\n",
    "Q4. Why self is used in OOPs?\n",
    "Q5. What is inheritance? Give an example for each type of inheritance."
   ]
  },
  {
   "cell_type": "markdown",
   "id": "b572b369",
   "metadata": {},
   "source": [
    "## 1) Explain Class and Object with respect to Object-Oriented Programming. Give a suitable example.\n"
   ]
  },
  {
   "cell_type": "markdown",
   "id": "54e442ad",
   "metadata": {},
   "source": [
    "class is an blueprint for an object , it acts an template to store the attribute and method\n",
    "\n",
    "class has two thinsg , state and behaviour,  varialbles & method respectively\n",
    "\n",
    "object is an instance of the method, where it occupies some space and acts and individual entity \n",
    "\n",
    "example :  consider a perosn have suzuki car \n",
    "\n",
    "here car will be considered as car, which has state( milage, price, enggine_type) and behaviour( gears , steer, acclerate)\n",
    "\n",
    "and here the suzuki brand is considred as object "
   ]
  },
  {
   "cell_type": "markdown",
   "id": "f84664b9",
   "metadata": {},
   "source": [
    "## 2) Name the four pillars of OOPs."
   ]
  },
  {
   "cell_type": "markdown",
   "id": "70ceb394",
   "metadata": {},
   "source": [
    "the four pillars of OOPS are : \n",
    "\n",
    "-> encapsulation \n",
    "-> abstaction \n",
    "-> inheritance \n",
    "-> polymorphism \n"
   ]
  },
  {
   "cell_type": "markdown",
   "id": "f4bb2fb3",
   "metadata": {},
   "source": [
    "## 3) Explain why the __init__() function is used. Give a suitable example."
   ]
  },
  {
   "cell_type": "markdown",
   "id": "ed777b16",
   "metadata": {},
   "source": [
    "when we instantiate a class, the class may  or may not have paremetrized varaibles , but when in case it has parameterized variables , then we need to link those instance varibles to the particular ojbet ,  and this can be done by the means of __init__() \n",
    "\n",
    "this method,__init__() , acts  as a constructor for the parametrized varialbes , and the first parameter passed in this should be self "
   ]
  },
  {
   "cell_type": "markdown",
   "id": "fef11f02",
   "metadata": {},
   "source": [
    "## 4) Why self is used in OOPs?"
   ]
  },
  {
   "cell_type": "markdown",
   "id": "1b211034",
   "metadata": {},
   "source": [
    "when we instantiate a object of a class( create a object ) then to refer the current object of the class , we need some kind of poniter or reference , so self is used as to efer to the currrent object or instance of the class "
   ]
  },
  {
   "cell_type": "markdown",
   "id": "c3d136c5",
   "metadata": {},
   "source": [
    "## 5)What is inheritance? Give an example for each type of inheritance."
   ]
  },
  {
   "cell_type": "markdown",
   "id": "127b26ee",
   "metadata": {},
   "source": [
    "inheritance is a oop property where a child class can access all the propeties, data members of the parent class\n",
    "\n",
    "child class is called as derived class and parent class is called as base class \n",
    "\n",
    "types of inheritance are :\n",
    "\n",
    "simple inheritance, multi level inheritance, multiple inheritance "
   ]
  }
 ],
 "metadata": {
  "language_info": {
   "name": "python"
  }
 },
 "nbformat": 4,
 "nbformat_minor": 5
}
