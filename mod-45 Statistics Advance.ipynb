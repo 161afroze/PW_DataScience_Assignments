{
 "cells": [
  {
   "cell_type": "markdown",
   "id": "f2336f6e",
   "metadata": {},
   "source": [
    "## 1)What is the Probability density function?"
   ]
  },
  {
   "cell_type": "markdown",
   "id": "92b6dc4e",
   "metadata": {},
   "source": [
    "probability density function is a probability function that describes the probability of an\n",
    "event occuring for a ranodm varible at the fixed interval space \n",
    "\n",
    "\n",
    "In simple terms, a Probability Density Function (PDF) tells us how likely it is for a continuous random variable to take on different values. It's like a recipe that describes how the chances of a variable falling within a certain range of values change.\n"
   ]
  },
  {
   "cell_type": "markdown",
   "id": "56aac7a9",
   "metadata": {},
   "source": [
    "## 2) What are the types of Probability distribution?"
   ]
  },
  {
   "cell_type": "markdown",
   "id": "d301aec8",
   "metadata": {},
   "source": [
    "the types of Probability distribution are as follows :\n",
    "    \n",
    "    PDF : probabitliy density function  -> for continuous random variable \n",
    "    PMF : probabitliy mass function     -> for discrete random variable \n",
    "    "
   ]
  },
  {
   "cell_type": "markdown",
   "id": "324539d3",
   "metadata": {},
   "source": [
    " ## 3) Write a Python function to calculate the probability density function of a normal distribution with given mean and standard deviation at a given point."
   ]
  },
  {
   "cell_type": "code",
   "execution_count": 64,
   "id": "c5bb6936",
   "metadata": {},
   "outputs": [
    {
     "name": "stdout",
     "output_type": "stream",
     "text": [
      "0.12579440923099774\n"
     ]
    }
   ],
   "source": [
    "from scipy.stats import norm \n",
    "\n",
    "x=1\n",
    "mean=2\n",
    "std=3\n",
    "\n",
    "print(norm.pdf(x,loc=mean, scale=std))"
   ]
  },
  {
   "cell_type": "markdown",
   "id": "9f5df368",
   "metadata": {},
   "source": [
    "## 4)What are the properties of Binomial distribution? Give two examples of events where binomialdistribution can be applied."
   ]
  },
  {
   "cell_type": "markdown",
   "id": "6251ec74",
   "metadata": {},
   "source": [
    "binomial distribuition is similar to the bernoullis distribution but here the number of trails are greater than one \n",
    "\n",
    "when the bernoullis process is done multiple times ( n being greater than one) then the distribution is called as \n",
    "binomial distribution \n",
    "\n",
    "the properites of binomial distribution are as follows\n",
    "\n",
    "    ->Fixed number of trials.\n",
    "    ->Independent trials,\n",
    "    ->Two outcomes,\n",
    "    ->Constant probability of success,\n",
    "    ->Discrete values.\n",
    "\n",
    "Two examples of events where the Binomial distribution can be applied are:\n",
    "\n",
    "Coin Flipping: for 10 times \n",
    "\n",
    "Manufacturing Defects: getting boxes that are defective\n",
    "\n",
    "\n",
    "\n",
    "\n",
    "\n",
    "\n"
   ]
  },
  {
   "cell_type": "markdown",
   "id": "03881586",
   "metadata": {},
   "source": [
    "## 5) Generate a random sample of size 1000 from a binomial distribution with probability of success 0.4and plot a histogram of the results using matplotlib."
   ]
  },
  {
   "cell_type": "code",
   "execution_count": 48,
   "id": "072b74f0",
   "metadata": {},
   "outputs": [
    {
     "data": {
      "image/png": "[encoded data removed]",
      "text/plain": [
       "<Figure size 640x480 with 1 Axes>"
      ]
     },
     "metadata": {},
     "output_type": "display_data"
    }
   ],
   "source": [
    "from scipy.stats import binom\n",
    "\n",
    "data=binom.rvs(n=1,p=0.4,size=1000)\n",
    "\n",
    "plt.hist(data)\n",
    "plt.xticks([0,1],['failiure', 'success'])\n",
    "plt.grid(axis='y')"
   ]
  },
  {
   "cell_type": "markdown",
   "id": "635ad748",
   "metadata": {},
   "source": [
    "## 6)Write a Python function to calculate the cumulative distribution function of a Poisson distribution with given mean at a given point."
   ]
  },
  {
   "cell_type": "code",
   "execution_count": 49,
   "id": "bb777923",
   "metadata": {},
   "outputs": [
    {
     "data": {
      "text/plain": [
       "0.42319008112684364"
      ]
     },
     "execution_count": 49,
     "metadata": {},
     "output_type": "execute_result"
    }
   ],
   "source": [
    "# given mean \n",
    "m=3\n",
    "\n",
    "from scipy.stats import poisson\n",
    "#poissoi is a instance in this library\n",
    "\n",
    "poisson.cdf(2,m)"
   ]
  },
  {
   "cell_type": "markdown",
   "id": "a586ce9b",
   "metadata": {},
   "source": [
    "## 7)How Binomial distribution different from Poisson distribution?"
   ]
  },
  {
   "cell_type": "markdown",
   "id": "b917bd7c",
   "metadata": {},
   "source": [
    "binomial distribution tells about the output is successfull or failure \n",
    "it gives us the binary output \n",
    "\n",
    "poissoin distribution tells about the proability of a  event occuring at fixed interval time\n",
    "\n",
    "The Binomial distribution models the number of successes in a fixed number of independent trials, such as coin flips or basketball shots, where each trial has two possible outcomes. The Poisson distribution, on the other hand, describes the number of rare events occurring randomly over a fixed interval, like customer arrivals or accidents, without a predetermined number of trials. Both are essential in probability for different scenarios.\n",
    "\n",
    "\n",
    "\n",
    "\n",
    "\n",
    "\n"
   ]
  },
  {
   "cell_type": "markdown",
   "id": "3f04fd7a",
   "metadata": {},
   "source": [
    "## 8) Generate a random sample of size 1000 from a Poisson distribution with mean 5 and calculate thesample mean and variance."
   ]
  },
  {
   "cell_type": "code",
   "execution_count": 52,
   "id": "28d67baa",
   "metadata": {},
   "outputs": [
    {
     "name": "stdout",
     "output_type": "stream",
     "text": [
      "sample mean value : 5.11\n",
      "sample mean variance : 5.5039\n"
     ]
    }
   ],
   "source": [
    "from scipy.stats import poisson \n",
    "\n",
    "data=poisson.rvs(mu=5,size=1000)\n",
    "#data varialble containing 1000 datapoints with mean value of 5\n",
    "\n",
    "import numpy as np\n",
    "\n",
    "print(\"sample mean value :\", np.mean(data))\n",
    "print(\"sample mean variance :\", np.var(data))\n"
   ]
  },
  {
   "cell_type": "markdown",
   "id": "35316308",
   "metadata": {},
   "source": [
    "## 9) How mean and variance are related in Binomial distribution and Poisson distribution?"
   ]
  },
  {
   "cell_type": "markdown",
   "id": "84a60c2b",
   "metadata": {},
   "source": [
    "In both the Binomial distribution and the Poisson distribution, the mean (\\(\\mu\\)) and variance (\\(\\sigma^2\\)) are related, but the exact relationship differs slightly between the two distributions.\n",
    "\n",
    "**Binomial Distribution**:\n",
    "- Mean (\\(\\mu\\)): For a Binomial distribution with parameters \\(n\\) (number of trials) and \\(p\\) (probability of success), the mean is given by \\( \\mu = np \\).\n",
    "- Variance (\\(\\sigma^2\\)): The variance of a Binomial distribution is given by \\( \\sigma^2 = np(1-p) \\).\n",
    "\n",
    "In the Binomial distribution, the variance depends on both the number of trials (\\(n\\)) and the probability of success (\\(p\\)). As the number of trials or the probability of success changes, the variance also changes accordingly.\n",
    "\n",
    "**Poisson Distribution**:\n",
    "- Mean (\\(\\mu\\)): For a Poisson distribution, the mean is denoted by \\( \\mu \\), which is also the parameter of the distribution. The mean is equal to the rate parameter of the Poisson distribution, representing the average number of events occurring in a fixed interval.\n",
    "- Variance (\\(\\sigma^2\\)): In the Poisson distribution, the variance is also equal to the mean (\\( \\sigma^2 = \\mu \\)).\n",
    "\n",
    "In the Poisson distribution, the variance is equal to the mean. This property is unique to the Poisson distribution and signifies that the spread or variability of the data is directly proportional to the mean rate of occurrence.\n",
    "\n",
    "In summary:\n",
    "- In the Binomial distribution, the variance depends on both the number of trials and the probability of success.\n",
    "- In the Poisson distribution, the variance is equal to the mean, reflecting the characteristic that the spread of the data is proportional to the average rate of occurrence."
   ]
  },
  {
   "cell_type": "markdown",
   "id": "4835dc56",
   "metadata": {},
   "source": [
    "## 10) Q10. In normal distribution with respect to mean position, where does the least frequent data appear?"
   ]
  },
  {
   "cell_type": "markdown",
   "id": "f03df45d",
   "metadata": {},
   "source": [
    "In a normal distribution, also known as a Gaussian distribution, the least frequent data appears in the tails of the distribution, farthest away from the mean.\n",
    "\n",
    "mean=median=mode @ center for the normal distribution "
   ]
  },
  {
   "cell_type": "code",
   "execution_count": null,
   "id": "5a226979",
   "metadata": {},
   "outputs": [],
   "source": []
  }
 ],
 "metadata": {
  "kernelspec": {
   "display_name": "Python 3 (ipykernel)",
   "language": "python",
   "name": "python3"
  },
  "language_info": {
   "codemirror_mode": {
    "name": "ipython",
    "version": 3
   },
   "file_extension": ".py",
   "mimetype": "text/x-python",
   "name": "python",
   "nbconvert_exporter": "python",
   "pygments_lexer": "ipython3",
   "version": "3.11.1"
  }
 },
 "nbformat": 4,
 "nbformat_minor": 5
}
