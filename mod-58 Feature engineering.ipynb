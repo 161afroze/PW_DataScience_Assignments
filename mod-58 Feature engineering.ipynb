{
 "cells": [
  {
   "cell_type": "markdown",
   "id": "9762bc02",
   "metadata": {},
   "source": [
    "## 1) Q1. What is the difference between Ordinal Encoding and Label Encoding? Provide an example of when youmight choose one over the other."
   ]
  },
  {
   "cell_type": "markdown",
   "id": "e2eb2915",
   "metadata": {},
   "source": [
    "ordinal encoding : ordinal encoding is encoding technique where the data is encoded in the ranking , the ranking is preserved ,each variable in the dataset is assigned to a numeric integer staring with 0 till n-1 variables , the ranking here is to be mentioned while creating instances of the OrdinalEndocer class\n",
    "\n",
    "Label encoding : label encoding is a encoding techinque similar to the ordinal encoding but here the ranking is not preserved and it orders the ranking in the alphabeticall order \n",
    "\n",
    "when the ranking matters : like education of a person we can choose ordinal encoding \n",
    "\n",
    "when the ranking or order does not matter : geneder of a person then we can choose label encoding "
   ]
  },
  {
   "cell_type": "markdown",
   "id": "41bdcf3c",
   "metadata": {},
   "source": [
    "## 2) Explain how Target Guided Ordinal Encoding works and provide an example of when you might use it ina machine learning project."
   ]
  },
  {
   "cell_type": "markdown",
   "id": "96a9e347",
   "metadata": {},
   "source": [
    "target guided ordinal encoding : this encoding technique is used when we create realtionship to the target variable\n",
    "\n",
    "Target Guided Ordinal Encoding is a method of encoding categorical variables where the categories are ranked based on the target variable. This means that instead of arbitrarily assigning integer values to categories, each category is assigned a rank or score based on its relationship with the target variable. This can be particularly useful when there is a strong correlation between the categorical variable and the target variable.\n",
    "\n"
   ]
  },
  {
   "cell_type": "code",
   "execution_count": 4,
   "id": "041be5fb",
   "metadata": {},
   "outputs": [],
   "source": [
    "import pandas as pd\n",
    "\n",
    "data = {\n",
    "    'School Location': ['Urban', 'Suburban', 'Rural', 'Urban', 'Suburban', 'Rural'],\n",
    "    'Exam Score': [85, 90, 78, 79, 87, 82]\n",
    "}\n",
    "df = pd.DataFrame(data)\n",
    "\n",
    "location_means = df.groupby('School Location')['Exam Score'].mean()\n",
    "\n",
    "ordinal_mapping = location_means.to_dict()\n",
    "\n",
    "df['School Location Encoded'] = df['School Location'].map(ordinal_mapping)\n",
    "\n",
    "\n"
   ]
  },
  {
   "cell_type": "markdown",
   "id": "3e71fd09",
   "metadata": {},
   "source": [
    "## 3) Define covariance and explain why it is important in statistical analysis. How is covariance calculated?"
   ]
  },
  {
   "cell_type": "markdown",
   "id": "d05171fd",
   "metadata": {},
   "source": [
    " "
   ]
  },
  {
   "cell_type": "markdown",
   "id": "a4b75059",
   "metadata": {},
   "source": [
    "## 4) For a dataset with the following categorical variables: Color (red, green, blue), Size (small, medium,large), and Material (wood, metal, plastic), perform label encoding using Python's scikit-learn library.Show your code and explain the output."
   ]
  },
  {
   "cell_type": "markdown",
   "id": "265d0275",
   "metadata": {},
   "source": [
    "data={\n",
    "    'color\n",
    "}"
   ]
  },
  {
   "cell_type": "code",
   "execution_count": 64,
   "id": "2d3bf736",
   "metadata": {},
   "outputs": [],
   "source": [
    "data={\n",
    "    'color':['red','green','blue'],\n",
    "    'size':['small','medium','large'],\n",
    "    'material':['wood','metal','plastic']}\n",
    "\n",
    "dataframe=pd.DataFrame(data)\n",
    "\n",
    "dataframe.head()\n",
    "\n",
    "# here for material column and color column we have applied one hot encoding technique\n",
    "material_data=pd.get_dummies(dataframe['material'])\n",
    "color_data=pd.get_dummies(dataframe['color'])\n",
    "\n",
    "dataframe=pd.concat([dataframe,material_data])\n",
    "dataframe=pd.concat([dataframe,color_data])\n",
    "\n",
    "dataframe.fillna(0,inplace=True)"
   ]
  },
  {
   "cell_type": "code",
   "execution_count": 71,
   "id": "15bba117",
   "metadata": {},
   "outputs": [
    {
     "name": "stdout",
     "output_type": "stream",
     "text": [
      "[[0. 1. 0.]\n",
      " [1. 0. 1.]\n",
      " [2. 2. 2.]]\n"
     ]
    }
   ],
   "source": [
    "from sklearn.preprocessing import OrdinalEncoder\n",
    "import numpy as np\n",
    "\n",
    "# Define the categories for Size\n",
    "size_categories = [['small', 'medium', 'large']]\n",
    "# Define the categories for Color and Material (since they are not predefined)\n",
    "color_categories = [['red', 'green', 'blue']]\n",
    "material_categories = [['wood', 'metal', 'plastic']]\n",
    "\n",
    "# Initialize separate encoders for each categorical variable\n",
    "size_encoder = OrdinalEncoder(categories=size_categories)\n",
    "color_encoder = OrdinalEncoder(categories=color_categories)\n",
    "material_encoder = OrdinalEncoder(categories=material_categories)\n",
    "\n",
    "# Sample data\n",
    "data = [['red', 'medium', 'wood'],\n",
    "        ['green', 'small', 'metal'],\n",
    "        ['blue', 'large', 'plastic']]\n",
    "\n",
    "# Separate the features\n",
    "colors = np.array(data)[:, 0].reshape(-1, 1)\n",
    "sizes = np.array(data)[:, 1].reshape(-1, 1)\n",
    "materials = np.array(data)[:, 2].reshape(-1, 1)\n",
    "\n",
    "# Encode each feature separately\n",
    "encoded_colors = color_encoder.fit_transform(colors)\n",
    "encoded_sizes = size_encoder.fit_transform(sizes)\n",
    "encoded_materials = material_encoder.fit_transform(materials)\n",
    "\n",
    "# Concatenate the encoded features back together\n",
    "encoded_data = np.concatenate((encoded_colors, encoded_sizes, encoded_materials), axis=1)\n",
    "\n",
    "# Print the encoded data\n",
    "print(encoded_data)\n"
   ]
  },
  {
   "cell_type": "markdown",
   "id": "50a3ce64",
   "metadata": {},
   "source": [
    "## 5) Calculate the covariance matrix for the following variables in a dataset: Age, Income, and Educationlevel. Interpret the results."
   ]
  },
  {
   "cell_type": "markdown",
   "id": "1bbefb0b",
   "metadata": {},
   "source": []
  },
  {
   "cell_type": "markdown",
   "id": "ff1054e0",
   "metadata": {},
   "source": [
    "## 6) You are working on a machine learning project with a dataset containing several categoricalvariables, including \"Gender\" (Male/Female), \"Education Level\" (High School/Bachelor's/Master's/PhD),and \"Employment Status\" (Unemployed/Part-Time/Full-Time). Which encoding method would you use foreach variable, and why?"
   ]
  },
  {
   "cell_type": "markdown",
   "id": "ba167d9d",
   "metadata": {},
   "source": [
    "for gender variable : we can perform label encoding \n",
    "\n",
    "for education level : here ranking matters to we use ordinal encoding \n",
    "\n",
    "for employemt status : we can use lable or onehot encoding  techinque . any of these two wont matter "
   ]
  },
  {
   "cell_type": "markdown",
   "id": "0a06030b",
   "metadata": {},
   "source": [
    "## 7) You are analyzing a dataset with two continuous variables, \"Temperature\" and \"Humidity\", and twocategorical variables, \"Weather Condition\" (Sunny/Cloudy/Rainy) and \"Wind Direction\" (North/South/East/West). Calculate the covariance between each pair of variables and interpret the results."
   ]
  },
  {
   "cell_type": "markdown",
   "id": "61c0d2a4",
   "metadata": {},
   "source": []
  }
 ],
 "metadata": {
  "kernelspec": {
   "display_name": "Python 3",
   "language": "python",
   "name": "python3"
  },
  "language_info": {
   "codemirror_mode": {
    "name": "ipython",
    "version": 3
   },
   "file_extension": ".py",
   "mimetype": "text/x-python",
   "name": "python",
   "nbconvert_exporter": "python",
   "pygments_lexer": "ipython3",
   "version": "3.11.1"
  }
 },
 "nbformat": 4,
 "nbformat_minor": 5
}
