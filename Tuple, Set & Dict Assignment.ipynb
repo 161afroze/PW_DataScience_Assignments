{
 "cells": [
  {
   "cell_type": "markdown",
   "id": "873fe820",
   "metadata": {},
   "source": [
    "## Q1. What are the characteristics of the tuples? Is tuple immutable?"
   ]
  },
  {
   "cell_type": "markdown",
   "id": "cb9eee5a",
   "metadata": {},
   "source": [
    "-> Tuples are one of the datatypes  from the Collcection. \n",
    "\n",
    "-> Tuples are ordered and they can be indexed , also they allow duplicates \n",
    "\n",
    "-> They are IMMUTABLE which means once they are created they cannot be modified\n"
   ]
  },
  {
   "cell_type": "markdown",
   "id": "8cc10fe3",
   "metadata": {},
   "source": [
    "## Q2. What are the two tuple methods in python ?  Give an example of each method. Give a reason why tuples have only two in-built methods as compared to Lists."
   ]
  },
  {
   "cell_type": "markdown",
   "id": "7c94cd47",
   "metadata": {},
   "source": [
    "-> Tuples has only two built in methods and they are \n",
    "\n",
    "1.) count() returns the frequency of the element\n",
    "\n",
    "2.) index() returns the index number of the specified element"
   ]
  },
  {
   "cell_type": "code",
   "execution_count": 6,
   "id": "38144d44",
   "metadata": {},
   "outputs": [
    {
     "name": "stdout",
     "output_type": "stream",
     "text": [
      "frequency of element 1 in tuple is : 11\n",
      "element 2 is present at index : 1\n"
     ]
    }
   ],
   "source": [
    "# example of count and index method for tuples\n",
    "\n",
    "x=tuple((1,2,1,3,4,5,1,1,1,1,1,1,1,2,2,3,1,5,4,2,1))\n",
    "print(\"frequency of element 1 in tuple is :\" ,x.count(1))\n",
    "print(\"element 2 is present at index :\",x.index(2))\n",
    "\n",
    "\n",
    "# index function will return the element found at the first occruing index\n"
   ]
  },
  {
   "cell_type": "markdown",
   "id": "878eee35",
   "metadata": {},
   "source": [
    "-> Tuples have only two in built methods comapared to lists because as follow:\n",
    "    \n",
    "    1) they are mutable, elements cannot be added and elements cannot be removed\n",
    "    2) we cant even update the elemnents of the tuple\n",
    "    3) that is why they do not have method like insert() pop() remove() and many more"
   ]
  },
  {
   "cell_type": "markdown",
   "id": "ca296105",
   "metadata": {},
   "source": [
    "## Q3. Which collection datatypes in python do not allow duplicate items? Write a code using a set to remove duplicates from the given list."
   ]
  },
  {
   "cell_type": "markdown",
   "id": "4ef79953",
   "metadata": {},
   "source": [
    "The collection datatype in python which allows duplicates items are LIST and TUPLE"
   ]
  },
  {
   "cell_type": "code",
   "execution_count": 20,
   "id": "daff8662",
   "metadata": {},
   "outputs": [
    {
     "name": "stdout",
     "output_type": "stream",
     "text": [
      "------before using the set constructor-----\n",
      "[1, 1, 1, 2, 1, 3, 1, 4, 2, 1, 2, 2, 2, 3, 2, 4, 3, 1, 3, 2, 3, 3, 3, 4, 4, 1, 4, 2, 4, 3, 4, 4]\n",
      "------after using the set constructor-----\n",
      "[1, 2, 3, 4]\n"
     ]
    }
   ],
   "source": [
    "# code - using set to remove duplicates formt the given list \n",
    "\n",
    "\n",
    "# approach one\n",
    "print(\"------before using the set constructor-----\")\n",
    "list=[1, 1, 1, 2, 1, 3, 1, 4, 2, 1, 2, 2, 2, 3, 2, 4, 3, 1, 3, 2, 3, 3, 3, 4, 4, 1, 4, 2, 4, 3, 4, 4]#this is the given list\n",
    "print(list)\n",
    "result=set(list)\n",
    "list=[]\n",
    "for x in result:\n",
    "    list.append(x)\n",
    "print(\"------after using the set constructor-----\")\n",
    "print(list)\n"
   ]
  },
  {
   "cell_type": "markdown",
   "id": "5fc14edd",
   "metadata": {},
   "source": [
    "## Q4. Explain the difference between the union() and update() methods for a set. Give an example of each method."
   ]
  },
  {
   "cell_type": "markdown",
   "id": "d72ab4ee",
   "metadata": {},
   "source": [
    "So, the main difference between the union() method and the update() method is:\n",
    "    -> that union() returns a new set that contains all the elements from both sets,\n",
    "    -> while update() modifies one of the sets to include all the elements from both sets.2\n",
    "    "
   ]
  },
  {
   "cell_type": "code",
   "execution_count": 26,
   "id": "40ae69de",
   "metadata": {},
   "outputs": [
    {
     "name": "stdout",
     "output_type": "stream",
     "text": [
      "s3 formed using the union functoin : \n",
      "{1, 2, 3, 4, 5}\n",
      "\n",
      "\n",
      "s13 :\n",
      "None\n",
      "\n",
      "but s11 has updated :\n",
      "{33, 22, 23, 24, 11}\n"
     ]
    }
   ],
   "source": [
    "# code \n",
    "\n",
    "s1={1,2,3}\n",
    "s2={2,3,4,5}\n",
    "s3=s1.union(s2)\n",
    "print(\"s3 formed using the union functoin : \")\n",
    "print(s3)\n",
    "print(\"\\n\")\n",
    "\n",
    "s11={11,22,33}\n",
    "s12={22,23,24}\n",
    "s13=s11.update(s12)\n",
    "print(\"s13 :\")\n",
    "print(s13)\n",
    "print(\"\\nbut s11 has updated :\")\n",
    "print(s11)"
   ]
  },
  {
   "cell_type": "markdown",
   "id": "bdbd7ecc",
   "metadata": {},
   "source": [
    "## Q5. What is a dictionary? Give an example. Also, state whether a dictionary is ordered or unordered."
   ]
  },
  {
   "cell_type": "markdown",
   "id": "d5809628",
   "metadata": {},
   "source": [
    "-> A dictionary in computer programming is a data structure that stores a collection of items as key-value pairs. \n",
    "\n",
    "-> Each key is a unique identifier for an associated value. it is also called as map in \n",
    "\n",
    "\n",
    "example of dictionary\n",
    "\n",
    "dict={1:[1,2,3] ,2:[11,22,33],3 :[31,32,33]}\n",
    "\n",
    "here keys are 1 , 2 ,3 and values are correspoding [1,2,3] ,[11,22,33] ,[31,32,33]\n",
    "\n",
    "dictionary keys need to hashable, so we cannot use iterable or any sepcial characters as keys\n",
    "\n",
    "\n",
    "keys are considerd as orderd datatype"
   ]
  },
  {
   "cell_type": "markdown",
   "id": "1eed8ea8",
   "metadata": {},
   "source": [
    "## Q6. Can we create a nested dictionary? If so, please give an example by creating a simple one-level nested dictionary."
   ]
  },
  {
   "cell_type": "markdown",
   "id": "83faf3a8",
   "metadata": {},
   "source": [
    "yes we can create a nested dictinary \n",
    "\n",
    "exmaple of nested dictonary\n",
    "\n",
    "details={\"name\":\"afroze\",\n",
    "         \"age\":16,\n",
    "         \"rollno\":172254,\n",
    "         \"stack\":{\n",
    "             \"webdev\": \"react\",\n",
    "             \"andriod\": \"django\",\n",
    "             \"ML\" :\"tensorflow\"\n",
    "             }\n",
    "        }"
   ]
  },
  {
   "cell_type": "markdown",
   "id": "a45b27c7",
   "metadata": {},
   "source": [
    "## Q7. Using setdefault() method, create key named topics in the given dictionary and also add the value ofthe key as this list ['Python', 'Machine Learning’, 'Deep Learning'] dict1 = {'language' : 'Python', 'course': 'Data Science Masters'}"
   ]
  },
  {
   "cell_type": "code",
   "execution_count": 2,
   "id": "b5ea5898",
   "metadata": {},
   "outputs": [
    {
     "name": "stdout",
     "output_type": "stream",
     "text": [
      "{'language': 'Python', 'course': 'Data Science Masters', 'topics': ['Python', 'Machine learning', 'Deep Learning']}\n"
     ]
    }
   ],
   "source": [
    "# so the dictionary is ..\n",
    "\n",
    "\n",
    "dict1 = {'language' : 'Python', 'course': 'Data Science Masters'}\n",
    "mylist=['Python','Machine learning','Deep Learning']\n",
    "dict1.setdefault('topics',mylist)\n",
    "print(dict1)"
   ]
  },
  {
   "cell_type": "markdown",
   "id": "31c8a875",
   "metadata": {},
   "source": [
    "## Q8. What are the three view objects in dictionaries? Use the three in-built methods in python to displaythese three view objects for the given dictionary.dict1 = {'Sport': 'Cricket' , 'Teams': ['India', 'Australia', 'England', 'South Africa', 'Sri Lanka', 'New Zealand']}"
   ]
  },
  {
   "cell_type": "markdown",
   "id": "3775641a",
   "metadata": {},
   "source": [
    "In python there are three views of the dictionary \n",
    "\n",
    "1.) keys  : this view object will represent the keys of the dictionary\n",
    "    \n",
    "2.) values : this view object will represent the values of the keys of the dictionary\n",
    "\n",
    "3.) item : this view object will present  a key-value pair of all the elements of the dictionary"
   ]
  },
  {
   "cell_type": "code",
   "execution_count": 6,
   "id": "9d2bdbb2",
   "metadata": {},
   "outputs": [
    {
     "name": "stdout",
     "output_type": "stream",
     "text": [
      "-------------------------------------\n",
      "the keys of the dictionary are \n",
      " :\n",
      "dict_keys(['Sport', 'Teams'])\n",
      "-------------------------------------\n",
      "the values of the dictionary are \n",
      " :\n",
      "dict_values(['Cricket', ['India', 'Australia', 'England', 'South Africa', 'Sri Lanka', 'New Zealand']])\n",
      "-------------------------------------\n",
      "the items of the dictionary are \n",
      " :\n",
      "dict_items([('Sport', 'Cricket'), ('Teams', ['India', 'Australia', 'England', 'South Africa', 'Sri Lanka', 'New Zealand'])])\n",
      "-------------------------------------\n"
     ]
    }
   ],
   "source": [
    "# code ... using the three view objects that are used in the dictionary\n",
    "\n",
    "dict1 = {'Sport': 'Cricket' , 'Teams': ['India', 'Australia', 'England', 'South Africa', 'Sri Lanka', 'New Zealand']}\n",
    "print(\"-------------------------------------\")\n",
    "print(\"the keys of the dictionary are \\n :\")\n",
    "print(dict1.keys())\n",
    "print(\"-------------------------------------\")\n",
    "print(\"the values of the dictionary are \\n :\")\n",
    "print(dict1.values())\n",
    "print(\"-------------------------------------\")\n",
    "print(\"the items of the dictionary are \\n :\")\n",
    "print(dict1.items())\n",
    "print(\"-------------------------------------\")\n",
    "\n"
   ]
  },
  {
   "cell_type": "code",
   "execution_count": null,
   "id": "d71b494c",
   "metadata": {},
   "outputs": [],
   "source": []
  }
 ],
 "metadata": {
  "kernelspec": {
   "display_name": "Python 3 (ipykernel)",
   "language": "python",
   "name": "python3"
  },
  "language_info": {
   "codemirror_mode": {
    "name": "ipython",
    "version": 3
   },
   "file_extension": ".py",
   "mimetype": "text/x-python",
   "name": "python",
   "nbconvert_exporter": "python",
   "pygments_lexer": "ipython3",
   "version": "3.11.1"
  }
 },
 "nbformat": 4,
 "nbformat_minor": 5
}
