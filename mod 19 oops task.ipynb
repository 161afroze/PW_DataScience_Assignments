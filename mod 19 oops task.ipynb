{
 "cells": [
  {
   "cell_type": "markdown",
   "id": "b572b369",
   "metadata": {},
   "source": [
    "### Q1, Create a vehicle class with an init method having instance variables as name_of_vehicle, max_speedand average_of_vehicle.\n"
   ]
  },
  {
   "cell_type": "code",
   "execution_count": 9,
   "id": "c266651e",
   "metadata": {},
   "outputs": [],
   "source": [
    "class vehicle:\n",
    "    def __init__(self,name,max_speed,average):\n",
    "        self.name=name\n",
    "        self.max_speed=max_speed\n",
    "        self.average=average\n",
    "\n",
    "        "
   ]
  },
  {
   "cell_type": "markdown",
   "id": "f72bde47",
   "metadata": {},
   "source": [
    "#### Q2. Create a child class car from the vehicle class created in Que 1, which will inherit the vehicle class.Create a method named seating_capacity which takes capacity as an argument and returns the name ofthe vehicle and its seating capacity."
   ]
  },
  {
   "cell_type": "code",
   "execution_count": 12,
   "id": "e68d9e1e",
   "metadata": {},
   "outputs": [],
   "source": [
    "class car(vehicle):\n",
    "    def seating_capacity(self,capacity):\n",
    "        return f\" {self.name} , {self.capactiy}\""
   ]
  },
  {
   "cell_type": "markdown",
   "id": "f9fdc329",
   "metadata": {},
   "source": [
    "### Q3. What is multiple inheritance? Write a python code to demonstrate multiple inheritance."
   ]
  },
  {
   "cell_type": "markdown",
   "id": "9b562979",
   "metadata": {},
   "source": [
    "multiple inheritance is done when one class can inherit multiple classes "
   ]
  },
  {
   "cell_type": "code",
   "execution_count": 25,
   "id": "23b53437",
   "metadata": {},
   "outputs": [
    {
     "name": "stdout",
     "output_type": "stream",
     "text": [
      "this is class one\n",
      "this is class two\n"
     ]
    }
   ],
   "source": [
    "class one:\n",
    "    def display_one(self):print(\"this is class one\")\n",
    "\n",
    "class two:\n",
    "    def display_two(self):print(\"this is class two\")\n",
    "\n",
    "class three(one,two):\n",
    "    \n",
    "    def display(self):\n",
    "        self.display_one()\n",
    "        self.display_two()\n",
    "\n",
    "three_obj=three()\n",
    "three_obj.display()"
   ]
  },
  {
   "cell_type": "markdown",
   "id": "1d8bc636",
   "metadata": {},
   "source": [
    "### Q4. What are getter and setter in python? Create a class and create a getter and a setter method in thisclass."
   ]
  },
  {
   "cell_type": "code",
   "execution_count": 30,
   "id": "f2dd4e7f",
   "metadata": {},
   "outputs": [
    {
     "name": "stdout",
     "output_type": "stream",
     "text": [
      "16\n",
      "16\n"
     ]
    }
   ],
   "source": [
    "class parent:\n",
    "    def __init__(self,name,age):\n",
    "        self.name=name\n",
    "        self.age=age\n",
    "        \n",
    "    def get_age(self):\n",
    "        return self.age\n",
    "\n",
    "    def set_age(self,age):\n",
    "        self.age=age\n",
    "    \n",
    "obj=parent('shaa',16)\n",
    "print(obj.get_age())\n",
    "obj.set_age=17\n",
    "print(obj.get_age())\n",
    "\n"
   ]
  },
  {
   "cell_type": "markdown",
   "id": "d8c66437",
   "metadata": {},
   "source": [
    "### Q5.What is method overriding in python? Write a python code to demonstrate method overriding."
   ]
  },
  {
   "cell_type": "markdown",
   "id": "a2816d03",
   "metadata": {},
   "source": [
    "method overridnig is a polmorphims concept in obeject oriendted programming .It is the ability for a subclass to define a different implementation of a method that is already defined in its parent class. This allows the subclass to customize the behavior of the method without modifying the parent class."
   ]
  },
  {
   "cell_type": "code",
   "execution_count": 31,
   "id": "0fd9ab12",
   "metadata": {},
   "outputs": [
    {
     "name": "stdout",
     "output_type": "stream",
     "text": [
      "Dog barks\n",
      "Cat meows\n"
     ]
    }
   ],
   "source": [
    "class Animal:\n",
    "    def make_sound(self):\n",
    "        print(\"Animal makes a sound\")\n",
    "\n",
    "class Dog(Animal):\n",
    "    def make_sound(self):\n",
    "        print(\"Dog barks\")\n",
    "\n",
    "class Cat(Animal):\n",
    "    def make_sound(self):\n",
    "        print(\"Cat meows\")\n",
    "\n",
    "# Creating instances of the subclasses\n",
    "dog = Dog()\n",
    "cat = Cat()\n",
    "\n",
    "# Calling the overridden methods\n",
    "dog.make_sound()  # Output: Dog barks\n",
    "cat.make_sound()  # Output: Cat meows\n"
   ]
  },
  {
   "cell_type": "code",
   "execution_count": null,
   "id": "1afd98bf",
   "metadata": {},
   "outputs": [],
   "source": []
  }
 ],
 "metadata": {
  "kernelspec": {
   "display_name": "Python 3",
   "language": "python",
   "name": "python3"
  },
  "language_info": {
   "codemirror_mode": {
    "name": "ipython",
    "version": 3
   },
   "file_extension": ".py",
   "mimetype": "text/x-python",
   "name": "python",
   "nbconvert_exporter": "python",
   "pygments_lexer": "ipython3",
   "version": "3.11.1"
  }
 },
 "nbformat": 4,
 "nbformat_minor": 5
}
