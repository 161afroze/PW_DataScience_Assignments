{
 "cells": [
  {
   "cell_type": "markdown",
   "id": "6a620a76",
   "metadata": {},
   "source": [
    "##  1) What is Statistics?"
   ]
  },
  {
   "cell_type": "markdown",
   "id": "f8abead9",
   "metadata": {},
   "source": [
    "Statistics is a branch of mathematics that involves collecting, organizing, analyzing, interpreting, and presenting data.\n",
    "Its primary objective is to make sense of large amounts of information by summarizing it in a meaningful way, drawing inferences, and making predictions or decisions based on the data.\n",
    "\n",
    "There are two main branches of statistics:\n",
    "descriptive statistics and \n",
    "inferential statistics."
   ]
  },
  {
   "cell_type": "markdown",
   "id": "23daa665",
   "metadata": {},
   "source": [
    "## 2) Define the different types of statistics and give an example of when each type might be used."
   ]
  },
  {
   "cell_type": "markdown",
   "id": "10036280",
   "metadata": {},
   "source": [
    "There are two main branches of statistics:\n",
    "descriptive statistics and \n",
    "inferential statistics.\n",
    "\n",
    "examples of descriptive statistics is measure of central tendency , variability and probability distribuitions\n",
    "\n",
    "examples of inferential statistics is regression , hypothesis testing , chi squre testing"
   ]
  },
  {
   "cell_type": "markdown",
   "id": "6545266c",
   "metadata": {},
   "source": [
    "## 3) What are the different types of data and how do they differ from each other? Provide an example ofeach type of data."
   ]
  },
  {
   "cell_type": "markdown",
   "id": "cd1f9c5f",
   "metadata": {},
   "source": [
    "there are two type of data and they are  : qualitative and quantitative \n",
    "    \n",
    "qualitative work with the non numerical data and \n",
    "quantiative works with the numeircal data \n",
    "\n",
    "qualitative is classified into  normal and ordinal data \n",
    "quantitative is calssified into discrete and continous data "
   ]
  },
  {
   "cell_type": "markdown",
   "id": "0763eae1",
   "metadata": {},
   "source": [
    "## 4) Categorise the following datasets with respect to quantitative and qualitative data types:(i) Grading in exam: A+, A, B+, B, C+, C, D, E(ii) Colour of mangoes: yellow, green, orange, red(iii) Height data of a class: [178.9, 179, 179.5, 176, 177.2, 178.3, 175.8,...](iv) Number of mangoes exported by a farm: [500, 600, 478, 672, ...]"
   ]
  },
  {
   "cell_type": "markdown",
   "id": "a24fba5e",
   "metadata": {},
   "source": [
    "answers :\n",
    "    \n",
    "    i) qualitative datatype , ordinal type of data\n",
    "    ii) qualitative datatype, nominal type of data\n",
    "    iii) quantitative datatype, continous  type of data\n",
    "    iiii) quantitative datatype, discrete type of data"
   ]
  },
  {
   "cell_type": "markdown",
   "id": "b1f97cff",
   "metadata": {},
   "source": [
    "## 5)Explain the concept of levels of measurement and give an example of a variable for each level."
   ]
  },
  {
   "cell_type": "markdown",
   "id": "c80c0994",
   "metadata": {},
   "source": [
    "levels of measurement are as follows :\n",
    "    \n",
    "    normal scale : name of the products\n",
    "    ordinal scale : size of the t shirts\n",
    "    interval scale : music pitch of the system \n",
    "    ratio scale data : price of petrol "
   ]
  },
  {
   "cell_type": "markdown",
   "id": "7cf0fd9d",
   "metadata": {},
   "source": [
    "## 6) Why is it important to understand the level of measurement when analyzing data? Provide anexample to illustrate your answer."
   ]
  },
  {
   "cell_type": "markdown",
   "id": "38ed79f9",
   "metadata": {},
   "source": [
    "Understanding the level of measurement is crucial when analyzing data because it determines the types of statistical\n",
    "analyses and interpretations that can be applied. Different levels of measurement have different properties and\n",
    "implications for data analysis.\n",
    "\n",
    "Interpretation of Results: The level of measurement influences how results are interpreted. For instance:\n",
    "\n",
    "Ordinal data: Differences in rankings might not be evenly spaced or meaningful, so caution is needed when interpreting differences between categories.\n",
    "Ratio data: A zero point exists, allowing for meaningful interpretations of ratios and proportions. For example, saying that one weight is twice as much as another weight is meaningful with ratio scale data\n"
   ]
  },
  {
   "cell_type": "markdown",
   "id": "d45b26df",
   "metadata": {},
   "source": [
    "## 7) How nominal data type is different from ordinal data type."
   ]
  },
  {
   "cell_type": "markdown",
   "id": "605ec7db",
   "metadata": {},
   "source": [
    "in nominal data type ranking and order of the data does not matter \n",
    "but  in the ordinal data ranking and order of the data matters "
   ]
  },
  {
   "cell_type": "markdown",
   "id": "62103e2c",
   "metadata": {},
   "source": [
    "## 8) Which type of plot can be used to display data in terms of range?"
   ]
  },
  {
   "cell_type": "markdown",
   "id": "e6eca7b6",
   "metadata": {},
   "source": [
    "\n",
    "A type of plot commonly used to display data in terms of range is a box plot, also known as a box-and-whisker plot."
   ]
  },
  {
   "cell_type": "markdown",
   "id": "8a4251d3",
   "metadata": {},
   "source": [
    "## 9) Describe the difference between descriptive and inferential statistics. Give an example of each type of statistics and explain how they are used."
   ]
  },
  {
   "cell_type": "markdown",
   "id": "c505c2eb",
   "metadata": {},
   "source": [
    "descriptive statistics are used to explain the summary and describing the main features of the data \n",
    "\n",
    "Inferential statistics involve methods for making inferences or predictions about a larger population based on sample data.\n",
    "These methods allow researchers to draw conclusions, make predictions, ortest hypotheses about the\n",
    "population from which the sample was drawn.\n",
    "\n",
    "\n",
    "descrptive statistics : measure of central tendency \n",
    "    \n",
    "inferential statistics : hypothesis testing"
   ]
  },
  {
   "cell_type": "markdown",
   "id": "a7180ebc",
   "metadata": {},
   "source": [
    "## 10) What are some common measures of central tendency and variability used in statistics? Explainhow each measure can be used to describe a dataset."
   ]
  },
  {
   "cell_type": "markdown",
   "id": "d6b2bc84",
   "metadata": {},
   "source": [
    "measure of central tendency : mean median mode\n",
    "\n",
    "\n",
    "variability : variance and standard deviation \n",
    "    \n",
    "    \n",
    "measure of central tendency explain where a the data will flow towards a central value for any dataset\n",
    "\n",
    "variablity explains how a much a deviation occurs from the average of the dataset "
   ]
  },
  {
   "cell_type": "code",
   "execution_count": null,
   "id": "761b79cd",
   "metadata": {},
   "outputs": [],
   "source": []
  }
 ],
 "metadata": {
  "kernelspec": {
   "display_name": "Python 3 (ipykernel)",
   "language": "python",
   "name": "python3"
  },
  "language_info": {
   "codemirror_mode": {
    "name": "ipython",
    "version": 3
   },
   "file_extension": ".py",
   "mimetype": "text/x-python",
   "name": "python",
   "nbconvert_exporter": "python",
   "pygments_lexer": "ipython3",
   "version": "3.11.1"
  }
 },
 "nbformat": 4,
 "nbformat_minor": 5
}
