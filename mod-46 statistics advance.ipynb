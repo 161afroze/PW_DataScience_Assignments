{
 "cells": [
  {
   "cell_type": "markdown",
   "id": "18e9e741",
   "metadata": {},
   "source": [
    "##  1) What are the Probability Mass Function (PMF) and Probability Density Function (PDF)? Explain withan example."
   ]
  },
  {
   "cell_type": "markdown",
   "id": "45ab5300",
   "metadata": {},
   "source": [
    "probability mass function : it deals with the discrete random variable \n",
    "    \n",
    "probability density function : it deals with the continuous random variable \n",
    "    \n",
    "discrete random variable examples : age , size of shirt , mobile number of a person\n",
    "\n",
    "continuous random variable examples : height , weight , \n",
    "\n",
    "In summary, PMF is for discrete random variables, providing the probability of each possible value, while PDF is for continuous random variables, providing the probability density over a range of values."
   ]
  },
  {
   "cell_type": "markdown",
   "id": "ca9598fb",
   "metadata": {},
   "source": [
    "## 2) What is Cumulative Density Function (CDF)? Explain with an example. Why CDF is used?"
   ]
  },
  {
   "cell_type": "markdown",
   "id": "d9af4e11",
   "metadata": {},
   "source": [
    "CDF is the sum of the proabilities of event occuring \n",
    "\n",
    "The Cumulative Density Function (CDF) is a fundamental concept in probability and statistics, denoting the probability that a random variable takes on a value less than or equal to a given point. \n",
    "\n",
    "The CDF provides a cumulative view of the probability distribution. It ranges from 0 to 1, increasing monotonically as the variable's value increases.\n",
    " \n",
    "For instance, in a fair six-sided die example, the CDF would show the increasing likelihood of rolling a number less than or equal to a given value. Widely used in statistical analysis, the CDF aids in understanding the behavior of random variables and is essential in tasks such as probability computation, quantile determination, and distribution comparison."
   ]
  },
  {
   "cell_type": "markdown",
   "id": "a5a543bf",
   "metadata": {},
   "source": [
    " ## 3) What are some examples of situations where the normal distribution might be used as a model?Explain how the parameters of the normal distribution relate to the shape of the distribution."
   ]
  },
  {
   "cell_type": "markdown",
   "id": "cf01d002",
   "metadata": {},
   "source": [
    "normal distribution is known as Gaussian distribution. it is used in many techincal and other fieleds it can be used to calculate the :\n",
    "    \n",
    "    average height and weight of the population ,\n",
    "    finances of any industry with the fiscal year ,\n",
    "    test scores for any exams \n",
    "    \n",
    "The parameters of the norma distribution are :\n",
    "  \n",
    "    Mean               -> central value of the data \n",
    "    standard deviation -> tells how much far away the observation value is from the mean "
   ]
  },
  {
   "cell_type": "markdown",
   "id": "9ea6d8bc",
   "metadata": {},
   "source": [
    "## 4) Q4: Explain the importance of Normal Distribution. Give a few real-life examples of NormalDistribution."
   ]
  },
  {
   "cell_type": "markdown",
   "id": "591c14c0",
   "metadata": {},
   "source": [
    "The normal distribution holds significant importance in statistics and various fields due to its numerous properties and widespread applicability. Some key reasons for its importance include:\n",
    "\n",
    "1. **Central Limit Theorem** : The normal distribution emerges as a result of the central limit theorem, which states that the distribution of sample means from any population approaches a normal distribution as the sample size increases, regardless of the shape of the population distribution. This theorem underpins many statistical methods and allows researchers to make inferences about population parameters based on sample statistics.\n",
    "\n",
    "2. **Ease of Use**: The normal distribution is mathematically well-behaved and characterized by only two parameters: mean and standard deviation. This simplicity makes it easy to work with analytically and computationally. Many statistical tests and procedures assume normality or work most efficiently under normality assumptions.\n",
    "\n",
    "3. **Modeling Complex Systems**: In various real-world scenarios, complex systems and phenomena can be effectively approximated by normal distributions. This simplifies the analysis and interpretation of data, allowing researchers to make predictions and draw insights more easily.\n",
    "\n",
    "Real-life examples of situations where the normal distribution is commonly observed include:\n",
    "\n",
    "\n",
    " IQ Scores, \n",
    " Height and Weight\n",
    " Measurement Errors\n",
    " Financial Data"
   ]
  },
  {
   "cell_type": "markdown",
   "id": "b4fe67f4",
   "metadata": {},
   "source": [
    "## 5)  What is Bernaulli Distribution? Give an Example. What is the difference between BernoulliDistribution and Binomial Distribution?"
   ]
  },
  {
   "cell_type": "markdown",
   "id": "bed4bc0a",
   "metadata": {},
   "source": [
    "bernualli distribuition is a probability distribution function where the ouputs are in either two ways \n",
    "success or failure .It has got only binary output and the number of trail for the random process in once \n",
    "\n",
    "but whereas in the case of binomial distribuition it has also got only binary output (success or failure) but the number of \n",
    "trails can be more than once \n",
    "\n",
    "when the same random process/event is occuring for once it is called as bernualli distribution \n",
    "and the random process/event occuring more then once is known as binomial distribution\n",
    "\n",
    "\n",
    "example of bernoulli :\n",
    " flipping a coin for once \n",
    "exmaple of binomial:\n",
    " flipping a coin for ten times "
   ]
  },
  {
   "cell_type": "markdown",
   "id": "20d4b31c",
   "metadata": {},
   "source": [
    "## 6) Consider a dataset with a mean of 50 and a standard deviation of 10. If we assume that the datasetis normally distributed, what is the probability that a randomly selected observation will be greaterthan 60? Use the appropriate formula and show your calculations."
   ]
  },
  {
   "cell_type": "code",
   "execution_count": 6,
   "id": "6e3933f3",
   "metadata": {},
   "outputs": [
    {
     "name": "stdout",
     "output_type": "stream",
     "text": [
      "1.0\n",
      "15.869999999999996 is theprobability that a randomly selected observation will be greaterthan 60\n"
     ]
    }
   ],
   "source": [
    "\"\"\"given mean =50  and std=10, normally distr, \n",
    "\n",
    "so we need to use the standardization method and convert it into a standard normal distribution \n",
    "\n",
    "and using the z score formula we need to get the  a z score value for it \n",
    "\n",
    "\"z score= (observation - mean )/stanadard_deviation\"  is the z score formula \n",
    "\"\"\"\n",
    "\n",
    "zscore_value=(60-50)/10\n",
    "print(zscore_value)\n",
    "\n",
    "\"\"\"\n",
    "now we need to find out the area under curve for the zscore_value \n",
    "\n",
    "and this can be done using the zscore table \n",
    "\n",
    "and the zscore value for it using the table is 0.8413\n",
    "\n",
    "so the answer will be 1 - 0.8413\n",
    "\"\"\"\n",
    "\n",
    "proability =1-0.8413\n",
    "print(f\"{proability*100} is theprobability that a randomly selected observation will be greaterthan 60\")\n",
    "\n"
   ]
  },
  {
   "cell_type": "markdown",
   "id": "85d33683",
   "metadata": {},
   "source": [
    "## Q7: Explain uniform Distribution with an example."
   ]
  },
  {
   "cell_type": "markdown",
   "id": "8f8382f4",
   "metadata": {},
   "source": [
    "uniform distribution is a distribution where the possiblity of  any observation value to  occur is equal \n",
    "The chances of all values are equal to be the random variable for a event occuring\n",
    "\n",
    "The uniform distribution is a probability distribution where every value within a certain range has an equal likelihood of occurring. In other words, all outcomes are equally probable. This distribution is characterized by a constant probability density function (PDF) over the range of possible values.\n",
    "\n",
    "example can be considered for uniform distribution is :\n",
    "\n",
    "rolling a dice : any value ( 1-6) from the range can be expected "
   ]
  },
  {
   "cell_type": "markdown",
   "id": "e77f991e",
   "metadata": {},
   "source": [
    "## 8) What is the z score? State the importance of the z score."
   ]
  },
  {
   "cell_type": "markdown",
   "id": "9c6ae77d",
   "metadata": {},
   "source": [
    "The Z-score, also known as the standard score or standardized score, is a statistical measure that indicates how many standard deviations a data point is from the mean of a dataset. It is calculated using the formula:\n",
    "\n",
    "z = (observation_value-mean)/standard_deviation\n",
    "\n",
    "Overall, the Z-score is a valuable statistical tool that aids in standardization, outlier detection, probability calculation, hypothesis testing, and data interpretation, making it an essential concept in statistics and data analysis."
   ]
  },
  {
   "cell_type": "markdown",
   "id": "939adb13",
   "metadata": {},
   "source": [
    "## 9) What is Central Limit Theorem? State the significance of the Central Limit Theorem."
   ]
  },
  {
   "cell_type": "markdown",
   "id": "00987c61",
   "metadata": {},
   "source": [
    "\n",
    "The Central Limit Theorem (CLT) is a fundamental concept in statistics that states that the distribution of sample means approaches a normal distribution as the sample size increases, regardless of the shape of the population distribution. In other words, if we take repeated random samples from a population and calculate the mean of each sample, the distribution of those sample means will tend to be approximately normal, even if the original population distribution is not normal.\n",
    "\n",
    "\n",
    "Overall, the Central Limit Theorem is a cornerstone of statistical theory, providing a powerful tool for inference and analysis, and allowing statisticians to make reliable conclusions about populations based on sample data."
   ]
  },
  {
   "cell_type": "markdown",
   "id": "e01ac90e",
   "metadata": {},
   "source": [
    "## 10) State the assumptions of the Central Limit Theorem."
   ]
  },
  {
   "cell_type": "markdown",
   "id": "6e6aa616",
   "metadata": {},
   "source": [
    "The assumptions of the Central Limit Theorem (CLT) are:\n",
    "1. Independence of samples.\n",
    "2. Sufficient sample size (typically ≥ 30).\n",
    "3. Finite variance in the population.\n",
    "4. Identical distribution of samples.\n",
    "5. Random sampling from the population."
   ]
  }
 ],
 "metadata": {
  "kernelspec": {
   "display_name": "Python 3 (ipykernel)",
   "language": "python",
   "name": "python3"
  },
  "language_info": {
   "codemirror_mode": {
    "name": "ipython",
    "version": 3
   },
   "file_extension": ".py",
   "mimetype": "text/x-python",
   "name": "python",
   "nbconvert_exporter": "python",
   "pygments_lexer": "ipython3",
   "version": "3.11.1"
  }
 },
 "nbformat": 4,
 "nbformat_minor": 5
}
