{
 "cells": [
  {
   "cell_type": "markdown",
   "id": "5e001bdb",
   "metadata": {},
   "source": [
    "## 1) What are the three measures of central tendency?"
   ]
  },
  {
   "cell_type": "markdown",
   "id": "2dcbf205",
   "metadata": {},
   "source": [
    " the three measures of central tendency : mean median and mode\n",
    "    "
   ]
  },
  {
   "cell_type": "markdown",
   "id": "8ecf2c43",
   "metadata": {},
   "source": [
    "## 2) What is the difference between the mean, median, and mode? How are they used to measure thecentral tendency of a dataset?"
   ]
  },
  {
   "cell_type": "markdown",
   "id": "ff04b9c7",
   "metadata": {},
   "source": [
    "mean refers to the average of the dataset \n",
    "\n",
    "median refers to the middle value of the dataset( after it has been sorted )\n",
    "\n",
    "mode refers to the most occurring value of the dataset\n",
    "\n",
    "these three will tell the central value for the given dataset\n",
    "The mean, median, and mode are measures of central tendency used to describe the center or average value of a dataset.\n",
    "They provide insights into where the bulk of the data lies and help summarize the dataset in different ways"
   ]
  },
  {
   "cell_type": "markdown",
   "id": "faea80ca",
   "metadata": {},
   "source": [
    "## 3) Measure the three measures of central tendency for the given height data:\n"
   ]
  },
  {
   "cell_type": "code",
   "execution_count": 6,
   "id": "a4de039e",
   "metadata": {},
   "outputs": [
    {
     "name": "stdout",
     "output_type": "stream",
     "text": [
      "---------------------------------\n",
      "mean : 177.01875\n",
      "median : 177.0\n",
      "mode : ModeResult(mode=177.0, count=3)\n",
      "---------------------------------\n"
     ]
    }
   ],
   "source": [
    "mylist =[178,177,176,177,178.2,178,175,179,180,175,178.9,176.2,177,172.5,178,176.5]\n",
    "\n",
    "import numpy as np\n",
    "import scipy.stats as stats \n",
    "\n",
    "print(\"---------------------------------\")\n",
    "print(\"mean :\" , np.mean(mylist))\n",
    "print(\"median :\" , np.median(mylist))\n",
    "print(\"mode :\" , stats.mode(mylist))\n",
    "print(\"---------------------------------\")"
   ]
  },
  {
   "cell_type": "markdown",
   "id": "bd871a70",
   "metadata": {},
   "source": [
    "## 4) Find the standard deviation for the given data:\n"
   ]
  },
  {
   "cell_type": "code",
   "execution_count": 9,
   "id": "3c9273a8",
   "metadata": {},
   "outputs": [
    {
     "name": "stdout",
     "output_type": "stream",
     "text": [
      "------------------------------------------\n",
      "standar deviation : 1.7885814036548633\n",
      "------------------------------------------\n"
     ]
    }
   ],
   "source": [
    "mylist =[178,177,176,177,178.2,178,175,179,180,175,178.9,176.2,177,172.5,178,176.5]\n",
    "print(\"------------------------------------------\")\n",
    "print(\"standar deviation :\" , np.std(mylist))\n",
    "print(\"------------------------------------------\")"
   ]
  },
  {
   "cell_type": "markdown",
   "id": "66a16f34",
   "metadata": {},
   "source": [
    "## 5) How are measures of dispersion such as range, variance, and standard deviation used to describethe spread of a dataset? Provide an example."
   ]
  },
  {
   "cell_type": "markdown",
   "id": "908eae62",
   "metadata": {},
   "source": [
    "\n",
    "Measures of dispersion, including range, variance, and standard deviation, are used to quantify the spread or variability\n",
    "of data points within a dataset. They provide important insights into how the values in the dataset are \n",
    "distributed around the central tendency (such as the mean or median)."
   ]
  },
  {
   "cell_type": "markdown",
   "id": "3c6e7419",
   "metadata": {},
   "source": [
    "## 6) What is a Venn diagram?"
   ]
  },
  {
   "cell_type": "markdown",
   "id": "3d003a86",
   "metadata": {},
   "source": [
    "venn diagram are the visaul representation of set operation , they are represented in terms of circles \n",
    "\n",
    "A Venn diagram is a visual representation of the relationships between different sets of data"
   ]
  },
  {
   "cell_type": "markdown",
   "id": "116fd9eb",
   "metadata": {},
   "source": [
    "## 7) For the two given sets A = (2,3,4,5,6,7) & B = (0,2,6,8,10). Find: intersection and uninon"
   ]
  },
  {
   "cell_type": "code",
   "execution_count": 15,
   "id": "3a022c41",
   "metadata": {},
   "outputs": [
    {
     "name": "stdout",
     "output_type": "stream",
     "text": [
      "------------------------------------------------\n",
      "intersection : {2, 6}\n",
      "union : {0, 2, 3, 4, 5, 6, 7, 8, 10}\n",
      "------------------------------------------------\n"
     ]
    }
   ],
   "source": [
    "listone={2,3,4,5,6,7} \n",
    "listtwo={0,2,6,8,10}\n",
    "\n",
    "print(\"------------------------------------------------\")\n",
    "#insterction operation \n",
    "print(\"intersection :\",listone & listtwo)\n",
    "\n",
    "#union operation \n",
    "print(\"union :\",listone | listtwo)\n",
    "print(\"------------------------------------------------\")"
   ]
  },
  {
   "cell_type": "markdown",
   "id": "385289af",
   "metadata": {},
   "source": [
    "## 8) What do you understand about skewness in data?"
   ]
  },
  {
   "cell_type": "markdown",
   "id": "855445dc",
   "metadata": {},
   "source": [
    "Skewness in data refers to the asymmetry of the distribution of values in a dataset. It is a measure of the lack of symmetry in the data distribution around its mean. In other words, skewness quantifies the degree to which a dataset deviates from being symmetrical."
   ]
  },
  {
   "cell_type": "markdown",
   "id": "a5709d18",
   "metadata": {},
   "source": [
    "## 9) If a data is right skewed then what will be the position of median with respect to mean?"
   ]
  },
  {
   "cell_type": "markdown",
   "id": "2cf321a3",
   "metadata": {},
   "source": [
    "mean will be left to the median position in the right skewed distribution"
   ]
  },
  {
   "cell_type": "markdown",
   "id": "7855417d",
   "metadata": {},
   "source": [
    "## 10) Explain the difference between covariance and correlation. How are these measures used instatistical analysis?"
   ]
  },
  {
   "cell_type": "markdown",
   "id": "c6a2aa07",
   "metadata": {},
   "source": [
    "covariacne wil measure only the direction between the two variables , it gives only linear relation direction between them\n",
    "\n",
    "correlation will meauser direction as well as strength of the two variables "
   ]
  },
  {
   "cell_type": "markdown",
   "id": "45d19360",
   "metadata": {},
   "source": [
    "## 11) What is the formula for calculating the sample mean? Provide an example calculation for a dataset."
   ]
  },
  {
   "cell_type": "markdown",
   "id": "22f77f0b",
   "metadata": {},
   "source": [
    "for calcualtint the sample mean we considered denominator to be :\n",
    "    \n",
    "    toal number of element int the dataset -1\n",
    "    \n",
    "consider this dataset \n",
    "a=[1,2,3,4,5,6]\n",
    "\n",
    "a=toatal/len(a)-1\n",
    "\n",
    "a=21/5\n",
    "\n",
    "a=4.2\n"
   ]
  },
  {
   "cell_type": "markdown",
   "id": "a703b1a9",
   "metadata": {},
   "source": [
    "## 12) For a normal distribution data what is the relationship between its measure of central tendency?"
   ]
  },
  {
   "cell_type": "markdown",
   "id": "a92bfba2",
   "metadata": {},
   "source": [
    "mean median and mode are all equal and they lie at the centre of the distribution "
   ]
  },
  {
   "cell_type": "markdown",
   "id": "5fb2ad32",
   "metadata": {},
   "source": [
    "## 13 ) How is covariance different from correlation?\n"
   ]
  },
  {
   "cell_type": "markdown",
   "id": "9e9c74df",
   "metadata": {},
   "source": [
    "Covariance and correlation are both measures of the relationship between two variables in a dataset, but they differ in their scale and interpretation."
   ]
  },
  {
   "cell_type": "markdown",
   "id": "70a6e4bc",
   "metadata": {},
   "source": [
    "## 14) How do outliers affect measures of central tendency and dispersion? Provide an example."
   ]
  },
  {
   "cell_type": "markdown",
   "id": "35c85e63",
   "metadata": {},
   "source": [
    "for measure of central tendency:\n",
    "    mean -> the result will effect a lot\n",
    "    median -> the result will not effect a much \n",
    "    mode -> no effect in the result\n",
    "\n",
    "for measure of dispersion:\n",
    "    range : the result will change significantly \n",
    "    variance: the resutl willl effect \n",
    "        \n",
    " Mean: Without the outlier: ( \\text{Mean} = \\frac{40 + 45 + 42 + 43 + 41 + 44}{6} = 42.5 ).\n",
    "        With the outlier: ( \\text{Mean} = \\frac{40 + 45 + 42 + 43 + 41 + 44 + 500}{7} \\approx 104.86 ).\n",
    "            \n",
    "Range: Without the outlier: Range = 45 - 40 = 5. With the outlier: Range = 500 - 40 = 460"
   ]
  },
  {
   "cell_type": "code",
   "execution_count": null,
   "id": "6abde8c2",
   "metadata": {},
   "outputs": [],
   "source": []
  }
 ],
 "metadata": {
  "kernelspec": {
   "display_name": "Python 3 (ipykernel)",
   "language": "python",
   "name": "python3"
  },
  "language_info": {
   "codemirror_mode": {
    "name": "ipython",
    "version": 3
   },
   "file_extension": ".py",
   "mimetype": "text/x-python",
   "name": "python",
   "nbconvert_exporter": "python",
   "pygments_lexer": "ipython3",
   "version": "3.11.1"
  }
 },
 "nbformat": 4,
 "nbformat_minor": 5
}
