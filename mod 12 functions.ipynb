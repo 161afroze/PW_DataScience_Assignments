{
 "cells": [
  {
   "cell_type": "markdown",
   "id": "b572b369",
   "metadata": {},
   "source": [
    "### 1) Q1. Create a python program to sort the given list of tuples based on integer value using alambda function.[('Sachin Tendulkar', 34357), ('Ricky Ponting', 27483), ('Jack Kallis', 25534), ('Virat Kohli', 24936)]\n"
   ]
  },
  {
   "cell_type": "code",
   "execution_count": 3,
   "id": "7a20da17",
   "metadata": {},
   "outputs": [
    {
     "name": "stdout",
     "output_type": "stream",
     "text": [
      "Sorted in Ascending Order:\n",
      "('Virat Kohli', 24936)\n",
      "('Jack Kallis', 25534)\n",
      "('Ricky Ponting', 27483)\n",
      "('Sachin Tendulkar', 34357)\n"
     ]
    }
   ],
   "source": [
    "players = [\n",
    "    ('Sachin Tendulkar', 34357),\n",
    "    ('Ricky Ponting', 27483),\n",
    "    ('Jack Kallis', 25534),\n",
    "    ('Virat Kohli', 24936)\n",
    "]\n",
    "\n",
    "# Sorting the list in ascending order based on the integer value in the tuples\n",
    "sorted_players_asc = sorted(players, key=lambda x: x[1])\n",
    "\n",
    "# Printing the sorted list\n",
    "print(\"Sorted in Ascending Order:\")\n",
    "for player in sorted_players_asc:\n",
    "    print(player)\n"
   ]
  },
  {
   "cell_type": "markdown",
   "id": "f84664b9",
   "metadata": {},
   "source": [
    "### 2) Q2. Write a Python Program to find the squares of all the numbers in the given list of integers usinglambda and map functions.[1, 2, 3, 4, 5, 6, 7, 8, 9, 10]"
   ]
  },
  {
   "cell_type": "code",
   "execution_count": 5,
   "id": "c0ea9d28",
   "metadata": {},
   "outputs": [
    {
     "name": "stdout",
     "output_type": "stream",
     "text": [
      "[1, 4, 9, 16, 25, 36, 49, 64, 81, 100]\n"
     ]
    }
   ],
   "source": [
    "\n",
    "mylist=[1, 2, 3, 4, 5, 6, 7, 8, 9, 10]\n",
    "\n",
    "res=list(map(lambda x: x**2 ,mylist))\n",
    "print(res)"
   ]
  },
  {
   "cell_type": "markdown",
   "id": "f4bb2fb3",
   "metadata": {},
   "source": [
    "### 3) Q3. Write a python program to convert the given list of integers into a tuple of strings. Use map andlambda functionsGiven String: [1, 2, 3, 4, 5, 6, 7, 8, 9, 10]Expected output: ('1', '2', '3', '4', '5', '6', '7', '8', '9', '10')"
   ]
  },
  {
   "cell_type": "code",
   "execution_count": 6,
   "id": "42e129be",
   "metadata": {},
   "outputs": [
    {
     "name": "stdout",
     "output_type": "stream",
     "text": [
      "['1', '2', '3', '4', '5', '6', '7', '8', '9', '10']\n"
     ]
    }
   ],
   "source": [
    "\n",
    "mylist=[1, 2, 3, 4, 5, 6, 7, 8, 9, 10]\n",
    "res=list(map(lambda x: str(x) ,mylist))\n",
    "print(res)"
   ]
  },
  {
   "cell_type": "markdown",
   "id": "fef11f02",
   "metadata": {},
   "source": [
    "### 4) Q4. Write a python program using reduce function to compute the product of a list containing numbers from 1 to 25."
   ]
  },
  {
   "cell_type": "code",
   "execution_count": 18,
   "id": "2719795f",
   "metadata": {},
   "outputs": [
    {
     "name": "stdout",
     "output_type": "stream",
     "text": [
      "15511210043330985984000000\n"
     ]
    }
   ],
   "source": [
    "from functools import reduce\n",
    "print(reduce(lambda x ,y : x*y,range(1,26)))\n",
    "\n"
   ]
  },
  {
   "cell_type": "markdown",
   "id": "c3d136c5",
   "metadata": {},
   "source": [
    "### 5) Q5. Write a python program to filter the numbers in a given list that are divisible by 2 and 3 using thefilter function.[2, 3, 6, 9, 27, 60, 90, 120, 55, 46]"
   ]
  },
  {
   "cell_type": "code",
   "execution_count": 7,
   "id": "792cc1b1",
   "metadata": {},
   "outputs": [
    {
     "name": "stdout",
     "output_type": "stream",
     "text": [
      "[2, 6, 60, 90, 120, 46]\n"
     ]
    }
   ],
   "source": [
    "mylist=[2, 3, 6, 9, 27, 60, 90, 120, 55, 46]\n",
    "res=list(filter(lambda x :x%2==0,mylist))\n",
    "print(res)\n",
    "\n"
   ]
  },
  {
   "cell_type": "markdown",
   "id": "09d8fbdd",
   "metadata": {},
   "source": [
    "### 6) Q6. Write a python program to find palindromes in the given list of strings using lambda and filterfunction.['python', 'php', 'aba', 'radar', 'level']"
   ]
  },
  {
   "cell_type": "code",
   "execution_count": 13,
   "id": "8bc02f2d",
   "metadata": {},
   "outputs": [
    {
     "name": "stdout",
     "output_type": "stream",
     "text": [
      "['php', 'aba', 'radar', 'level']\n"
     ]
    }
   ],
   "source": [
    "mylist=['python', 'php', 'aba', 'radar', 'level']\n",
    "res=list(filter(lambda x : x==x[::-1],mylist))\n",
    "print(res)\n"
   ]
  },
  {
   "cell_type": "code",
   "execution_count": null,
   "id": "6730b346",
   "metadata": {},
   "outputs": [],
   "source": []
  }
 ],
 "metadata": {
  "kernelspec": {
   "display_name": "Python 3",
   "language": "python",
   "name": "python3"
  },
  "language_info": {
   "codemirror_mode": {
    "name": "ipython",
    "version": 3
   },
   "file_extension": ".py",
   "mimetype": "text/x-python",
   "name": "python",
   "nbconvert_exporter": "python",
   "pygments_lexer": "ipython3",
   "version": "3.11.1"
  }
 },
 "nbformat": 4,
 "nbformat_minor": 5
}
