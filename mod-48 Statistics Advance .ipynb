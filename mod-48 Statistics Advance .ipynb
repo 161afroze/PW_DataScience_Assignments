{
 "cells": [
  {
   "cell_type": "markdown",
   "id": "798b3c09",
   "metadata": {},
   "source": [
    "## 1) What is the difference between a t-test and a z-test? Provide an example scenario where you woulduse each type of test."
   ]
  },
  {
   "cell_type": "markdown",
   "id": "a83b2754",
   "metadata": {},
   "source": [
    "T test and Z test both are those among the hypothesis test . these test are done over when the data has average \n",
    "A t-test and a z-test are both statistical hypothesis tests used to determine if there is a significant difference between the means of two groups or to assess if a sample mean differs significantly from a known or hypothesized population mea\n",
    "\n",
    "when the size of the sample is less than 30 and there is no population standard deviation then we can perform T test \n",
    "\n",
    "when the size is greater than 30 and also we have population standard deviation then we can perform Z test"
   ]
  },
  {
   "cell_type": "markdown",
   "id": "7215fd27",
   "metadata": {},
   "source": [
    "## 2) Differentiate between one-tailed and two-tailed tests."
   ]
  },
  {
   "cell_type": "markdown",
   "id": "7b692050",
   "metadata": {},
   "source": [
    "One-tailed tests have hypotheses specifying direction, with critical regions in one tail, ideal for specific directional hypotheses. Two-tailed tests lack directional hypotheses, with critical regions split between both tails, suitable for detecting differences regardless of direction. One-tailed tests are used when a particular effect direction is anticipated, like a new drug's positive impact. Two-tailed tests are employed when no specific direction is expected, such as comparing group means without preconceived notions. The choice between them depends on the research question's directional focus or neutrality.\n",
    "\n",
    "one tailed - either increasing or either decreasing \n",
    "\n",
    "two tailed - can be increasing and can also be decreasing"
   ]
  },
  {
   "cell_type": "markdown",
   "id": "8edc032d",
   "metadata": {},
   "source": [
    "## 3) Explain the concept of Type 1 and Type 2 errors in hypothesis testing. Provide an example scenario foreach type of error."
   ]
  },
  {
   "cell_type": "markdown",
   "id": "e33edd26",
   "metadata": {},
   "source": [
    "Type 1 error:  when we reject null hypothesis but in reality it is true\n",
    "\n",
    "Type 2 error:  when we retain null hypothesis but in reality it is false\n",
    "\n",
    "example of Type 1 error:\n",
    "     when you have corona virus but the result are negative\n",
    "\n",
    "example of Type 2 error:\n",
    "     when you dont have corona virus but the result are positive\n",
    "\n",
    "\n",
    "\n"
   ]
  },
  {
   "cell_type": "markdown",
   "id": "3e7edfed",
   "metadata": {},
   "source": [
    "## 4) Explain Bayes's theorem with an example."
   ]
  },
  {
   "cell_type": "markdown",
   "id": "23079c2c",
   "metadata": {},
   "source": [
    "Bayes' Theorem is a fundamental concept in probability theory that describes how to update or revise the probability of a hypothesis (an event or proposition) based on new evidence or information. It quantifies the relationship between the prior probability of the hypothesis, the probability of observing the evidence given the hypothesis (likelihood), and the overall probability of observing the evidence (the total probability). Bayes' Theorem provides a way to calculate the posterior probability of a hypothesis given the evidence, which reflects our updated belief about the hypothesis after considering the new information."
   ]
  },
  {
   "cell_type": "markdown",
   "id": "8660f890",
   "metadata": {},
   "source": [
    "## 5) What is a confidence interval? How to calculate the confidence interval, explain with an example."
   ]
  },
  {
   "cell_type": "markdown",
   "id": "8de7802b",
   "metadata": {},
   "source": [
    "confidence interval is the range in which the estimated values are obtained for any population paramter\n",
    "\n",
    "confidence interval is calculated by formula \n",
    "\n",
    "= mean +/- zscore(standard_deviation/root(size of sample))\n",
    "\n"
   ]
  },
  {
   "cell_type": "markdown",
   "id": "702b0d76",
   "metadata": {},
   "source": [
    "## 6) Use Bayes' Theorem to calculate the probability of an event occurring given prior knowledge of the event's probability and new evidence. Provide a sample problem and solution."
   ]
  },
  {
   "cell_type": "markdown",
   "id": "b241073d",
   "metadata": {},
   "source": [
    "Certainly! Let's consider a practical example involving a medical test:\n",
    "\n",
    "Suppose a certain disease affects 2% of the population. A diagnostic test for this disease is known to correctly identify the disease 99% of the time when it's present, but it also incorrectly identifies the disease in 3% of cases where it's not present.\n",
    "\n",
    "Now, let's say an individual takes the test and it comes back positive. We want to calculate the probability that this person actually has the disease.\n",
    "\n",
    "Given:\n",
    "- Prior probability of having the disease: \\( P(\\text{Disease}) = 0.02 \\)\n",
    "- Probability of a positive test result given the disease is present: \\( P(\\text{Positive Test} | \\text{Disease}) = 0.99 \\)\n",
    "- Probability of a positive test result given the disease is not present (false positive rate): \\( P(\\text{Positive Test} | \\neg \\text{Disease}) = 0.03 \\)\n",
    "\n",
    "We want to find:\n",
    "- Probability of having the disease given a positive test result: \\( P(\\text{Disease} | \\text{Positive Test}) \\)\n",
    "\n",
    "Using Bayes' Theorem:\n",
    "\\[ P(\\text{Disease} | \\text{Positive Test}) = \\frac{P(\\text{Positive Test} | \\text{Disease}) \\times P(\\text{Disease})}{P(\\text{Positive Test})} \\]\n",
    "\n",
    "We need to find \\( P(\\text{Positive Test}) \\) first:\n",
    "\\[ P(\\text{Positive Test}) = P(\\text{Positive Test} | \\text{Disease}) \\times P(\\text{Disease}) + P(\\text{Positive Test} | \\neg \\text{Disease}) \\times P(\\neg \\text{Disease}) \\]\n",
    "\\[ P(\\text{Positive Test}) = 0.99 \\times 0.02 + 0.03 \\times (1 - 0.02) \\]\n",
    "\\[ P(\\text{Positive Test}) = 0.0198 + 0.0294 \\]\n",
    "\\[ P(\\text{Positive Test}) = 0.0492 \\]\n",
    "\n",
    "Now, we can plug this value into Bayes' Theorem:\n",
    "\\[ P(\\text{Disease} | \\text{Positive Test}) = \\frac{0.99 \\times 0.02}{0.0492} \\]\n",
    "\\[ P(\\text{Disease} | \\text{Positive Test}) \\approx \\frac{0.0198}{0.0492} \\]\n",
    "\\[ P(\\text{Disease} | \\text{Positive Test}) \\approx 0.4024 \\]\n",
    "\n",
    "So, even with a positive test result, the probability of actually having the disease is approximately 40.24%."
   ]
  },
  {
   "cell_type": "markdown",
   "id": "958e48f5",
   "metadata": {},
   "source": [
    "## 7) Calculate the 95% confidence interval for a sample of data with a mean of 50 and a standard deviationof 5. Interpret the results."
   ]
  },
  {
   "cell_type": "code",
   "execution_count": 5,
   "id": "51738afe",
   "metadata": {},
   "outputs": [
    {
     "name": "stdout",
     "output_type": "stream",
     "text": [
      "------------------------------------------\n",
      "the lower interval is : 47.809\n",
      "the upper interval is : 52.191\n",
      "------------------------------------------\n"
     ]
    }
   ],
   "source": [
    "from math import sqrt\n",
    "mean=50\n",
    "stdd=5\n",
    "#consider z value as 1.96\n",
    "z=1.96 \n",
    "# consider sample size has 20\n",
    "n=20\n",
    "\n",
    "lower=mean-(z*(stdd)/sqrt(20))\n",
    "upper=mean+(z*(stdd)/sqrt(20))\n",
    "\n",
    "print(\"------------------------------------------\")\n",
    "print(\"the lower interval is :\",round(lower,3))\n",
    "print(\"the upper interval is :\",round(upper,3))\n",
    "print(\"------------------------------------------\")"
   ]
  },
  {
   "cell_type": "markdown",
   "id": "073932d2",
   "metadata": {},
   "source": [
    "## 8) What is the margin of error in a confidence interval? How does sample size affect the margin of error?Provide an example of a scenario where a larger sample size would result in a smaller margin of error."
   ]
  },
  {
   "cell_type": "markdown",
   "id": "3217bcde",
   "metadata": {},
   "source": [
    "The margin of error (MOE) in a confidence interval is a measure of the uncertainty or precision of an estimate derived from a sample. It indicates the range within which the true population parameter is likely to lie. \n",
    "\n",
    "The margin of error is influenced by several factors, including the sample size and the desired level of confidence. Generally, larger sample sizes tend to result in smaller margins of error, while smaller sample sizes result in larger margins of error.\n",
    "\n",
    "The relationship between sample size and margin of error is inverse. As the sample size increases, the margin of error decreases. This is because larger samples provide more information about the population, leading to more precise estimates.\n",
    "\n",
    "For example, consider a scenario where you want to estimate the average height of adults in a certain city. If you take a small sample of 50 adults, your estimate might have a larger margin of error, say ±3 inches. However, if you increase your sample size to 500 adults, your margin of error might decrease to, say, ±0.5 inches. This is because the larger sample size provides more data points, reducing the uncertainty in your estimate.\n",
    "\n",
    "In summary, larger sample sizes generally lead to smaller margins of error, as they provide more accurate representations of the population, resulting in more precise estimates."
   ]
  },
  {
   "cell_type": "markdown",
   "id": "0a027244",
   "metadata": {},
   "source": [
    "## 9) Calculate the z-score for a data point with a value of 75, a population mean of 70, and a populationstandard deviation of 5. Interpret the results"
   ]
  },
  {
   "cell_type": "code",
   "execution_count": 11,
   "id": "0ebb28f2",
   "metadata": {},
   "outputs": [
    {
     "name": "stdout",
     "output_type": "stream",
     "text": [
      "--------------------------\n",
      "the z score value is : 1.0\n",
      "--------------------------\n"
     ]
    }
   ],
   "source": [
    "x=75\n",
    "mean=70\n",
    "stdd=5\n",
    "\n",
    "z_score=(x-mean)/stdd\n",
    "print(\"--------------------------\")\n",
    "print(\"the z score value is :\",z_score)\n",
    "print(\"--------------------------\")"
   ]
  },
  {
   "cell_type": "markdown",
   "id": "3d349347",
   "metadata": {},
   "source": [
    "## 10) In a study of the effectiveness of a new weight loss drug, a sample of 50 participants lost an averageof 6 pounds with a standard deviation of 2.5 pounds. Conduct a hypothesis test to determine if the drug issignificantly effective at a 95% confidence level using a t-test."
   ]
  },
  {
   "cell_type": "markdown",
   "id": "3a19d176",
   "metadata": {},
   "source": []
  },
  {
   "cell_type": "code",
   "execution_count": 15,
   "id": "e5432950",
   "metadata": {},
   "outputs": [
    {
     "name": "stdout",
     "output_type": "stream",
     "text": [
      "16.970562748477143\n"
     ]
    },
    {
     "data": {
      "text/plain": [
       "\"\\nNow, we'll find the critical value for a one-tailed t-test at a 95% confidence level with 49 degrees of freedom (sample size - 1).You can find this value in a t-table or using statistical software. Let's assume it's approximately 1.676 (which corresponds to a one-tailed t\\nest with a 5% significance level and 49 degrees of freedom).\\nSince our calculated t-value (6.77) is greater than the critical t-value (1.676), we reject the null hypothesis.\\nTherefore, we have sufficient evidence to conclude that the weight loss drug is significantly effective at a 95% confidence le \\n\\n\""
      ]
     },
     "execution_count": 15,
     "metadata": {},
     "output_type": "execute_result"
    }
   ],
   "source": [
    "n=50\n",
    "stdd=2.5\n",
    "mean=6\n",
    "\n",
    "t_value=(mean)/(stdd/sqrt(n))\n",
    "print(t_value)\n",
    "\n",
    "\"\"\"\n",
    "Now, we'll find the critical value for a one-tailed t-test at a 95% confidence level with 49 degrees of freedom (sample size - 1).\\\n",
    "You can find this value in a t-table or using statistical software. Let's assume it's approximately 1.676 (which corresponds to a one-tailed t\n",
    "est with a 5% significance level and 49 degrees of freedom).\n",
    "Since our calculated t-value (6.77) is greater than the critical t-value (1.676), we reject the null hypothesis.\n",
    "Therefore, we have sufficient evidence to conclude that the weight loss drug is significantly effective at a 95% confidence le \n",
    "\n",
    "\"\"\"\n",
    "\n"
   ]
  },
  {
   "cell_type": "markdown",
   "id": "3f1b22ab",
   "metadata": {},
   "source": [
    "## 11) In a survey of 500 people, 65% reported being satisfied with their current job. Calculate the 95%confidence interval for the true proportion of people who are satisfied with their job."
   ]
  },
  {
   "cell_type": "code",
   "execution_count": 27,
   "id": "bc580aa1",
   "metadata": {},
   "outputs": [
    {
     "name": "stdout",
     "output_type": "stream",
     "text": [
      "------------------------------------------\n",
      "the lower interval is : 0.6019900010414497\n",
      "the upper interval is : 0.6980099989585503\n",
      "------------------------------------------\n",
      "60.2 percent to 69.8 percent are satisfied with their job\n"
     ]
    }
   ],
   "source": [
    "n=500\n",
    "p=0.65\n",
    "\n",
    "lower=p-1.96*(sqrt(((p)-(1-p))/n))\n",
    "upper=p+1.96*(sqrt(((p)-(1-p))/n))\n",
    "\n",
    "print(\"------------------------------------------\")\n",
    "print(\"the lower interval is :\",lower)\n",
    "print(\"the upper interval is :\",upper)\n",
    "print(\"------------------------------------------\")\n",
    "\n",
    "print(f\"{round(lower*100,2)} percent to {round(upper*100,2)} percent are satisfied with their job\" )"
   ]
  },
  {
   "cell_type": "markdown",
   "id": "d213268c",
   "metadata": {},
   "source": [
    "## 12) A researcher is testing the effectiveness of two different teaching methods on student performance.Sample A has a mean score of 85 with a standard deviation of 6, while sample B has a mean score of 82with a standard deviation of 5. Conduct a hypothesis test to determine if the two teaching methods have asignificant difference in student performance using a t-test with a significance level of 0.01."
   ]
  },
  {
   "cell_type": "code",
   "execution_count": 31,
   "id": "68a63faa",
   "metadata": {},
   "outputs": [
    {
     "name": "stdout",
     "output_type": "stream",
     "text": [
      "1.5811388300841898\n",
      "-----------yes there exsits a significance differnce ------------\n"
     ]
    }
   ],
   "source": [
    "x1=85\n",
    "std_one=6\n",
    "\n",
    "x2=82\n",
    "std_two=5\n",
    "\n",
    "\n",
    "signif=0.01\n",
    "\n",
    "# assume sample size=20\n",
    "\n",
    "t_test =(x1-x2)/sqrt((std_one**2 + std_one**2)/20)\n",
    "\n",
    "print(t_test)\n",
    "\n",
    "# now from the t table we need to find it value\n",
    "# and t score is \n",
    "\n",
    "t_cal=2.86 # this is from the t table\n",
    "\n",
    "print(\"-----------yes there exsits a significance differnce two teaching method------------\")"
   ]
  },
  {
   "cell_type": "markdown",
   "id": "2dbb6fa4",
   "metadata": {},
   "source": [
    "## 13) Q13. A population has am mean of 60 and a standard deviation of 8. A sample of 50 observations has a meanof 65. Calculate the 90% confidence interval for the true population mean."
   ]
  },
  {
   "cell_type": "markdown",
   "id": "1e0cb962",
   "metadata": {},
   "source": []
  },
  {
   "cell_type": "code",
   "execution_count": 35,
   "id": "5d720efa",
   "metadata": {},
   "outputs": [
    {
     "name": "stdout",
     "output_type": "stream",
     "text": [
      "------------------------------------------\n",
      "the lower interval is : 60.48075461516245\n",
      "the upper interval is : 59.51924538483755\n",
      "------------------------------------------\n",
      "60.48 percent to 59.52 percent are satisfied with their job\n"
     ]
    }
   ],
   "source": [
    "std=8\n",
    "mean=60 \n",
    "confidence_interval=90\n",
    "n=45 # assuimg the population size\n",
    "\n",
    "# considering it to be two tailed \n",
    "z=1.29 # we have deduced this from the z table\n",
    "\n",
    "lower=mean+(z*(stdd/sqrt(n)))\n",
    "upper=mean-(z*(stdd/sqrt(n)))\n",
    "\n",
    "\n",
    "print(\"------------------------------------------\")\n",
    "print(\"the lower interval is :\",lower)\n",
    "print(\"the upper interval is :\",upper)\n",
    "print(\"------------------------------------------\")\n",
    "\n",
    "print(f\"{round(lower,2)} percent to {round(upper,2)} percent are satisfied with their job\" )\n"
   ]
  },
  {
   "cell_type": "markdown",
   "id": "af9c13dd",
   "metadata": {},
   "source": [
    "## 14) In a study of the effects of caffeine on reaction timem, a sample of 30 participants had an averagereaction time of 0.25 seconds with a standard deviation of 0.05 seconds. Conduct a hypothesis test todetermine if the caffeine has a significant effect on reaction time at a 90% confidence level using a t-test"
   ]
  },
  {
   "cell_type": "code",
   "execution_count": 41,
   "id": "d25d5e03",
   "metadata": {},
   "outputs": [
    {
     "name": "stdout",
     "output_type": "stream",
     "text": [
      "t-statistic: 27.386127875258307\n",
      "Critical t-value: 1.6991270265334972\n",
      "p-value: 0.0\n",
      "Reject the null hypothesis: Caffeine has a significant effect on reaction time.\n"
     ]
    }
   ],
   "source": [
    "\n",
    "n=30\n",
    "x=0.025\n",
    "stdd=0.005\n",
    "confidence_interval=90\n",
    " \n",
    "t=(x)/(stdd/sqrt(n))\n",
    "\n",
    "from scipy import stats\n",
    "\n",
    "# Sample data\n",
    "sample_mean = 0.25\n",
    "sample_std = 0.05\n",
    "sample_size = 30\n",
    "\n",
    "# Null hypothesis population mean (you can change this if you have a specific value)\n",
    "null_mean = 0  \n",
    "\n",
    "# Significance level\n",
    "alpha = 0.10  # 90% confidence level\n",
    "\n",
    "# Calculate the t-statistic\n",
    "t_statistic = (sample_mean - null_mean) / (sample_std / (sample_size ** 0.5))\n",
    "\n",
    "# Degrees of freedom\n",
    "df = sample_size - 1\n",
    "\n",
    "# Calculate critical t-value\n",
    "critical_t_value = stats.t.ppf(1 - alpha/2, df)\n",
    "\n",
    "# Calculate p-value\n",
    "p_value = 2 * (1 - stats.t.cdf(abs(t_statistic), df))\n",
    "\n",
    "# Print results\n",
    "print(\"t-statistic:\", t_statistic)\n",
    "print(\"Critical t-value:\", critical_t_value)\n",
    "print(\"p-value:\", p_value)\n",
    "\n",
    "# Make decision\n",
    "if abs(t_statistic) > critical_t_value:\n",
    "    print(\"Reject the null hypothesis: Caffeine has a significant effect on reaction time.\")\n",
    "else:\n",
    "    print(\"Fail to reject the null hypothesis: There is no significant effect of caffeine on reaction time.\")\n"
   ]
  },
  {
   "cell_type": "code",
   "execution_count": null,
   "id": "44a03cb5",
   "metadata": {},
   "outputs": [],
   "source": []
  }
 ],
 "metadata": {
  "kernelspec": {
   "display_name": "Python 3",
   "language": "python",
   "name": "python3"
  },
  "language_info": {
   "codemirror_mode": {
    "name": "ipython",
    "version": 3
   },
   "file_extension": ".py",
   "mimetype": "text/x-python",
   "name": "python",
   "nbconvert_exporter": "python",
   "pygments_lexer": "ipython3",
   "version": "3.11.1"
  }
 },
 "nbformat": 4,
 "nbformat_minor": 5
}
