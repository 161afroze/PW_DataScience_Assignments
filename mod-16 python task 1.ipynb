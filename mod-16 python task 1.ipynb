{
 "cells": [
  {
   "cell_type": "markdown",
   "metadata": {},
   "source": [
    "### Q1. Create a function which will take a list as an argument and return the product of all the numbers\n",
    "after creating a flat list.\n",
    "Use the below-given list as an argument for your function.\n",
    "list1 = [1,2,3,4, [44,55,66, True], False, (34,56,78,89,34), {1,2,3,3,2,1}, {1:34, \"key2\": [55, 67, 78, 89], 4: (45,\n",
    "22, 61, 34)}, [56, 'data science'], 'Machine Learning']\n",
    "Note: you must extract numeric keys and values of the dictionary also."
   ]
  },
  {
   "cell_type": "code",
   "execution_count": 16,
   "metadata": {},
   "outputs": [
    {
     "name": "stdout",
     "output_type": "stream",
     "text": [
      "4134711838987085478833841242112000\n"
     ]
    }
   ],
   "source": [
    "def result(input_list):\n",
    "    stack=[input_list]\n",
    "    product=1\n",
    "\n",
    "    while stack:\n",
    "        current=stack.pop()\n",
    "\n",
    "        if isinstance(current,(list,tuple,set)):\n",
    "            stack.extend(current)\n",
    "        elif isinstance(current,dict):\n",
    "            stack.extend(current.keys())\n",
    "            stack.extend(current.values())\n",
    "        elif isinstance(current,(int,float)) and not isinstance(current,bool) :\n",
    "            product*=current\n",
    "        \n",
    "    return product\n",
    "\n",
    "list1 = [1,2,3,4, [44,55,66, True], False, (34,56,78,89,34), {1,2,3,3,2,1}, {1:34, \"key2\": [55, 67, 78, 89], 4: (45,\n",
    "22, 61, 34)}, [56, 'data science'], 'Machine Learning']\n",
    "\n",
    "print(result(list1))"
   ]
  },
  {
   "cell_type": "markdown",
   "metadata": {},
   "source": [
    "### Q2. Write a python program for encrypting a message sent to you by your friend. The logic of encryptionshould be such that, for a the output should be z. For b, the output should be y. For c, the output shouldbe x respectively. Also, the whitespace should be replaced with a dollar sign. Keep the punctuationmarks unchanged.\n",
    "\n",
    "\n",
    "Input Sentence: I want to become a Data Scientist.\n",
    "\n",
    "Encrypt the above input sentence using the program you just created.\n",
    "\n",
    "Note: Convert the given input sentence into lowercase before encrypting. The final output should be\n",
    "lowercase."
   ]
  },
  {
   "cell_type": "code",
   "execution_count": 12,
   "metadata": {},
   "outputs": [],
   "source": [
    "start=97\n",
    "cipher_formula={' ':'$'}\n",
    "end=122\n",
    "\n",
    "for i in range(26):\n",
    "    start+=1\n",
    "    end-=1\n",
    "    cipher_formula[chr(start)]=chr(end)"
   ]
  },
  {
   "cell_type": "code",
   "execution_count": 13,
   "metadata": {},
   "outputs": [],
   "source": [
    "input=\"I want to become a Data Scientist.\"\n",
    "input=input.lower()\n",
    "output=\"\"\n",
    "for i in input:\n",
    "    if i in cipher_formula.keys():\n",
    "        output=output+cipher_formula[i]\n",
    "    else:\n",
    "        output=output+i\n"
   ]
  },
  {
   "cell_type": "code",
   "execution_count": 14,
   "metadata": {},
   "outputs": [
    {
     "name": "stdout",
     "output_type": "stream",
     "text": [
      "r$damg$gl$yvxlnv$a$waga$hxrvmgrhg.\n"
     ]
    }
   ],
   "source": [
    "print(output)"
   ]
  },
  {
   "cell_type": "code",
   "execution_count": null,
   "metadata": {},
   "outputs": [],
   "source": []
  }
 ],
 "metadata": {
  "kernelspec": {
   "display_name": "Python 3",
   "language": "python",
   "name": "python3"
  },
  "language_info": {
   "codemirror_mode": {
    "name": "ipython",
    "version": 3
   },
   "file_extension": ".py",
   "mimetype": "text/x-python",
   "name": "python",
   "nbconvert_exporter": "python",
   "pygments_lexer": "ipython3",
   "version": "3.11.1"
  }
 },
 "nbformat": 4,
 "nbformat_minor": 2
}
