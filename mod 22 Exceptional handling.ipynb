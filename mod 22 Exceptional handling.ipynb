{
 "cells": [
  {
   "cell_type": "markdown",
   "id": "515dfafc",
   "metadata": {},
   "source": []
  },
  {
   "cell_type": "markdown",
   "id": "b572b369",
   "metadata": {},
   "source": [
    "## 1) What is an Excetpion in python ? difference between exception and syntax error"
   ]
  },
  {
   "cell_type": "markdown",
   "id": "54e442ad",
   "metadata": {},
   "source": [
    "ERROR  is of two types : syntax error and exception \n",
    "\n",
    "sytnax error: this type of error occurs when we miss the syntical structure of the programmnig language. it usually occurs when the protocol for any programmatic sentence is not followed\n",
    "\n",
    "Exceptoin : this a kind of error , thats abruptly stops the flow of exceution of the program "
   ]
  },
  {
   "cell_type": "markdown",
   "id": "f84664b9",
   "metadata": {},
   "source": [
    "## 2) What happens when an exception is not handled ? with example ?\n"
   ]
  },
  {
   "cell_type": "markdown",
   "id": "70ceb394",
   "metadata": {},
   "source": [
    "when the exception is not handled then it stops the flow of the execution \n",
    "\n",
    "example \n",
    "\n",
    "a=10/0\n",
    "\n",
    "will raise zerodivisionerror , we need to handle this exception"
   ]
  },
  {
   "cell_type": "markdown",
   "id": "f4bb2fb3",
   "metadata": {},
   "source": [
    "## 3) which python staments are used to handle exception , with example?"
   ]
  },
  {
   "cell_type": "markdown",
   "id": "ed777b16",
   "metadata": {},
   "source": [
    "the python statement that is used to handle exception are : try ,except, try else, try finally "
   ]
  },
  {
   "cell_type": "code",
   "execution_count": 2,
   "id": "e9380421",
   "metadata": {},
   "outputs": [
    {
     "name": "stdout",
     "output_type": "stream",
     "text": [
      "Cannot divide with zero\n"
     ]
    }
   ],
   "source": [
    "try:\n",
    "    a=10/0\n",
    "except Exception :\n",
    "    print(\"Cannot divide with zero\")"
   ]
  },
  {
   "cell_type": "markdown",
   "id": "fef11f02",
   "metadata": {},
   "source": [
    "## 4)  explain try else, raise, finally with example ?"
   ]
  },
  {
   "cell_type": "code",
   "execution_count": 5,
   "id": "f65b1526",
   "metadata": {},
   "outputs": [
    {
     "name": "stdout",
     "output_type": "stream",
     "text": [
      "zero dividng error\n"
     ]
    }
   ],
   "source": [
    "# try else\n",
    "\n",
    "try:\n",
    "    a=10/0\n",
    "except:\n",
    "    print(\"zero dividng error\")\n",
    "else:\n",
    "    print(\"divinding by zero shoudl be avoided\")"
   ]
  },
  {
   "cell_type": "code",
   "execution_count": 7,
   "id": "fd1903a0",
   "metadata": {},
   "outputs": [
    {
     "name": "stdout",
     "output_type": "stream",
     "text": [
      "using try and except is good approach\n"
     ]
    }
   ],
   "source": [
    "# try else\n",
    "\n",
    "try:\n",
    "    a=10/2\n",
    "except:\n",
    "    print(\"zero dividng error\")\n",
    "finally:\n",
    "    print(\"using try and except is good approach\")"
   ]
  },
  {
   "cell_type": "code",
   "execution_count": 13,
   "id": "948143e3",
   "metadata": {},
   "outputs": [],
   "source": [
    "try:\n",
    "    age=int(input())\n",
    "    if age<0:\n",
    "        raise Exception(\"age cannot be zero or less than zero\")"
   ]
  },
  {
   "cell_type": "markdown",
   "id": "c3d136c5",
   "metadata": {},
   "source": [
    "## 5) what are custom exception in python?"
   ]
  },
  {
   "cell_type": "markdown",
   "id": "127b26ee",
   "metadata": {},
   "source": [
    "the exception are built in exception , when the specific error is encountered then only specifc expection \n",
    "is thrown by the system\n",
    "\n",
    "when we want to apply exception at any instance, so this type of exceptoin ( where developer defines)\n",
    "then this exceptoin is called as custom exception"
   ]
  },
  {
   "cell_type": "markdown",
   "id": "22917fdc",
   "metadata": {},
   "source": [
    "### 6) give an example of custom exception?"
   ]
  },
  {
   "cell_type": "code",
   "execution_count": null,
   "id": "47d2af94",
   "metadata": {},
   "outputs": [],
   "source": [
    "class cannot_understand(Exception):\n",
    "    def __init__(self,text,msg=\"its not a proper english\"):\n",
    "        self.text=text\n",
    "        super().__init__(msg)\n",
    "\n",
    "    \n",
    "try:\n",
    "    text=\"alhgdlnasdklnjasilghasilghsdilghsdgih\"\n",
    "    raise cannot_understand(text)\n",
    "except Exception as e:\n",
    "  print(e)\n",
    "\n",
    "  "
   ]
  },
  {
   "cell_type": "code",
   "execution_count": null,
   "id": "7726c6b6",
   "metadata": {},
   "outputs": [],
   "source": []
  },
  {
   "cell_type": "code",
   "execution_count": null,
   "id": "e923234e",
   "metadata": {},
   "outputs": [],
   "source": []
  },
  {
   "cell_type": "code",
   "execution_count": null,
   "id": "49cf5b5d",
   "metadata": {},
   "outputs": [],
   "source": []
  }
 ],
 "metadata": {
  "kernelspec": {
   "display_name": "Python 3",
   "language": "python",
   "name": "python3"
  },
  "language_info": {
   "codemirror_mode": {
    "name": "ipython",
    "version": 3
   },
   "file_extension": ".py",
   "mimetype": "text/x-python",
   "name": "python",
   "nbconvert_exporter": "python",
   "pygments_lexer": "ipython3",
   "version": "3.11.1"
  }
 },
 "nbformat": 4,
 "nbformat_minor": 5
}
