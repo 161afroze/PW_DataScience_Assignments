{
 "cells": [
  {
   "cell_type": "markdown",
   "id": "5214f707",
   "metadata": {},
   "source": [
    "## 1) Pearson correlation coefficient is a measure of the linear relationship between two variables. Supposeyou have collected data on the amount of time students spend studying for an exam and their final examscores. Calculate the Pearson correlation coefficient between these two variables and interpret the result."
   ]
  },
  {
   "cell_type": "code",
   "execution_count": 4,
   "id": "496e041f",
   "metadata": {},
   "outputs": [
    {
     "name": "stdout",
     "output_type": "stream",
     "text": [
      "--------------------------------------------------\n",
      "-0.8285038835884277\n",
      "it has  a negative correlation\n",
      "--------------------------------------------------\n"
     ]
    }
   ],
   "source": [
    "study_hour, exam_scores = [1, 2, 3, 4, 5, 6, 7], [10, 9, 2.5, 6, 4, 3, 2]\n",
    "import scipy.stats\n",
    "\n",
    "correlation,_=scipy.stats.pearsonr(study_hour,exam_scores)\n",
    "\n",
    "print(\"--------------------------------------------------\")\n",
    "print(correlation)\n",
    "print(\"it has  a negative correlation\")\n",
    "print(\"--------------------------------------------------\")"
   ]
  },
  {
   "cell_type": "markdown",
   "id": "31850d7c",
   "metadata": {},
   "source": [
    "## 2) Spearman's rank correlation is a measure of the monotonic relationship between two variables.Suppose you have collected data on the amount of sleep individuals get each night and their overall jobsatisfaction level on a scale of 1 to 10. Calculate the Spearman's rank correlation between these twovariables and interpret the result."
   ]
  },
  {
   "cell_type": "code",
   "execution_count": 8,
   "id": "33a235e8",
   "metadata": {},
   "outputs": [
    {
     "name": "stdout",
     "output_type": "stream",
     "text": [
      "--------------------------------------------------\n",
      "0.893099424632264\n",
      "it has  a positive correlation\n",
      "--------------------------------------------------\n"
     ]
    }
   ],
   "source": [
    "sleep_hours = [7, 8, 6, 5, 7, 9, 8, 6, 5, 6]  \n",
    "job_satisfaction = [8, 9, 6, 5, 7, 9, 8, 7, 6, 5] \n",
    "\n",
    "from scipy.stats import spearmanr\n",
    "\n",
    "correlation,_=spearmanr(sleep_hours,job_satisfaction)\n",
    "\n",
    "print(\"--------------------------------------------------\")\n",
    "print(correlation)\n",
    "print(\"it has  a positive correlation\")\n",
    "print(\"--------------------------------------------------\")"
   ]
  },
  {
   "cell_type": "markdown",
   "id": "7999a66b",
   "metadata": {},
   "source": []
  },
  {
   "cell_type": "markdown",
   "id": "4fe9828f",
   "metadata": {},
   "source": [
    "## 3) Suppose you are conducting a study to examine the relationship between the number of hours ofexercise per week and body mass index (BMI) in a sample of adultsm. You collected data on both variablesfor 50 participants. Calculate the Pearson correlation coefficient and the Spearman's rank correlationbetween these two variables and compare the results."
   ]
  },
  {
   "cell_type": "markdown",
   "id": "171bf34b",
   "metadata": {},
   "source": []
  },
  {
   "cell_type": "code",
   "execution_count": 17,
   "id": "f0a507a1",
   "metadata": {},
   "outputs": [
    {
     "name": "stdout",
     "output_type": "stream",
     "text": [
      "------------------------------------------------------------\n",
      "spearman correlation : 0.3210292467781745\n",
      "pearson correlation : 0.3072279799198362\n",
      "------------------------------------------------------------\n"
     ]
    }
   ],
   "source": [
    "import numpy as np\n",
    "from scipy.stats import spearmanr, pearsonr\n",
    "\n",
    "exercise_hours=np.random.randint(1,10,50)\n",
    "bmi=np.random.normal(18,35,50)\n",
    "\n",
    "pearson_correlation,_=pearsonr(exercise_hours,bmi)\n",
    "spearman_correlation,_=spearmanr(exercise_hours,bmi)\n",
    "print(\"------------------------------------------------------------\")\n",
    "print(\"spearman correlation :\",spearman_correlation)\n",
    "print(\"pearson correlation :\",pearson_correlation)\n",
    "print(\"------------------------------------------------------------\")"
   ]
  },
  {
   "cell_type": "markdown",
   "id": "3305840d",
   "metadata": {},
   "source": [
    "## 4) A researcher is interested in examining the relationship between the number of hours individualsspend watching television per day and their level of physical activity. The researcher collected data onboth variables from a sample of 50 participants. Calculate the Pearson correlation coefficient betweenthese two variables."
   ]
  },
  {
   "cell_type": "code",
   "execution_count": 19,
   "id": "52a71c45",
   "metadata": {},
   "outputs": [
    {
     "name": "stdout",
     "output_type": "stream",
     "text": [
      "------------------------------------------------------------\n",
      "Pearson correlation coefficient: -0.1524952284433855\n",
      "------------------------------------------------------------\n"
     ]
    }
   ],
   "source": [
    "from scipy.stats import pearsonr\n",
    "import numpy as np\n",
    "\n",
    "tv_hours = np.random.uniform(0, 10, size=50)  \n",
    "physical_activity = np.random.randint(0, 10, size=50)  \n",
    "\n",
    "pearson_corr, _ = pearsonr(tv_hours, physical_activity)\n",
    "\n",
    "print(\"------------------------------------------------------------\")\n",
    "print(f\"Pearson correlation coefficient: {pearson_corr}\")\n",
    "print(\"------------------------------------------------------------\")"
   ]
  },
  {
   "cell_type": "markdown",
   "id": "70bffad5",
   "metadata": {},
   "source": []
  },
  {
   "cell_type": "markdown",
   "id": "b9f878f8",
   "metadata": {},
   "source": [
    "## 5) A survey was conducted to examine the relationship between age and preference for a particularbrand of soft drink. The survey results are shown below:"
   ]
  },
  {
   "attachments": {
    "image.png": {
     "image/png": "[encoded data removed]"
    }
   },
   "cell_type": "markdown",
   "id": "086eabd0",
   "metadata": {},
   "source": [
    "![image.png](attachment:image.png)"
   ]
  },
  {
   "cell_type": "code",
   "execution_count": 30,
   "id": "e9e83e40",
   "metadata": {},
   "outputs": [
    {
     "data": {
      "image/png": "[encoded data removed]",
      "text/plain": [
       "<Figure size 640x480 with 1 Axes>"
      ]
     },
     "metadata": {},
     "output_type": "display_data"
    }
   ],
   "source": [
    "import matplotlib.pyplot as plt\n",
    "import pandas as pd\n",
    "\n",
    "# Survey data\n",
    "age = [25, 42, 37, 19, 31, 28]\n",
    "soft_drink = ['coke', 'pepsi', 'dew', 'coke', 'pesi', 'coke']\n",
    "\n",
    "# Create a DataFrame from the survey data\n",
    "survey_df = pd.DataFrame({'Age': age, 'Soft Drink': soft_drink})\n",
    "\n",
    "# Group the data by age and soft drink preference, and count the occurrences\n",
    "grouped_data = survey_df.groupby(['Age', 'Soft Drink']).size().unstack(fill_value=0)\n",
    "\n",
    "# Plot the distribution of soft drink preferences for each age group\n",
    "grouped_data.plot(kind='bar', stacked=True)\n",
    "plt.xlabel('Age')\n",
    "plt.ylabel('Frequency')\n",
    "plt.title('Distribution of Soft Drink Preferences by Age')\n",
    "plt.xticks(rotation=0)\n",
    "plt.legend(title='Soft Drink')\n",
    "plt.show()\n"
   ]
  },
  {
   "cell_type": "markdown",
   "id": "c03c941c",
   "metadata": {},
   "source": [
    "## 6)  A company is interested in examining the relationship between the number of sales calls made per dayand the number of sales made per week. The company collected data on both variables from a sample of30 sales representatives. Calculate the Pearson correlation coefficient between these two variables."
   ]
  },
  {
   "cell_type": "code",
   "execution_count": 31,
   "id": "a19214f1",
   "metadata": {},
   "outputs": [
    {
     "name": "stdout",
     "output_type": "stream",
     "text": [
      "Pearson correlation coefficient: 0.0891\n"
     ]
    }
   ],
   "source": [
    "from scipy.stats import pearsonr\n",
    "import numpy as np\n",
    "\n",
    "# Example data\n",
    "sales_calls_per_day = np.random.randint(10, 50, size=30)  # Number of sales calls made per day\n",
    "sales_per_week = np.random.randint(10, 100, size=30)  # Number of sales made per week\n",
    "\n",
    "# Calculate Pearson correlation coefficient\n",
    "pearson_corr, _ = pearsonr(sales_calls_per_day, sales_per_week)\n",
    "\n",
    "# Print the Pearson correlation coefficient\n",
    "print(f\"Pearson correlation coefficient: {pearson_corr:.4f}\")\n"
   ]
  }
 ],
 "metadata": {
  "kernelspec": {
   "display_name": "Python 3 (ipykernel)",
   "language": "python",
   "name": "python3"
  },
  "language_info": {
   "codemirror_mode": {
    "name": "ipython",
    "version": 3
   },
   "file_extension": ".py",
   "mimetype": "text/x-python",
   "name": "python",
   "nbconvert_exporter": "python",
   "pygments_lexer": "ipython3",
   "version": "3.11.1"
  }
 },
 "nbformat": 4,
 "nbformat_minor": 5
}
