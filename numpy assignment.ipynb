{
 "cells": [
  {
   "cell_type": "code",
   "execution_count": 4,
   "id": "e104b356",
   "metadata": {},
   "outputs": [],
   "source": [
    "import numpy as np\n",
    "\n",
    "list_ = [ '1' , '2' , '3' , '4' , '5' ]\n",
    "\n",
    "array_list = np.array(object = list_)"
   ]
  },
  {
   "cell_type": "markdown",
   "id": "eab4d24c",
   "metadata": {},
   "source": [
    "## Q1. Is there any difference in the data type of variables list_ and array_list? If there is then write a codeto print the data types of both the variables."
   ]
  },
  {
   "cell_type": "markdown",
   "id": "73ce1a86",
   "metadata": {},
   "source": [
    "list_ contains the string object but \n",
    "array_list is a Numpy array haiving string object only"
   ]
  },
  {
   "cell_type": "markdown",
   "id": "0d28158c",
   "metadata": {},
   "source": [
    "## Q2. Write a code to print the data type of each and every element of both the variables list_ and arra_list.\n"
   ]
  },
  {
   "cell_type": "code",
   "execution_count": 13,
   "id": "ffcb7b77",
   "metadata": {},
   "outputs": [
    {
     "name": "stdout",
     "output_type": "stream",
     "text": [
      "datatype of list_ :  <class 'str'>\n",
      "datatype of array_list :  <class 'numpy.str_'>\n"
     ]
    }
   ],
   "source": [
    "print(\"datatype of list_ : \",type(list_[0]) )\n",
    "\n",
    "print(\"datatype of array_list : \" , type(array_list[0]))"
   ]
  },
  {
   "cell_type": "markdown",
   "id": "79057d0b",
   "metadata": {},
   "source": [
    " ## Q3. Will there be any difference in the data type of the elements present in both the variables, list_ andarra_list? If so then print the data types of each and every element present in both the variables, list_and arra_list."
   ]
  },
  {
   "cell_type": "code",
   "execution_count": 16,
   "id": "9488c280",
   "metadata": {},
   "outputs": [
    {
     "name": "stdout",
     "output_type": "stream",
     "text": [
      "<class 'numpy.int32'>\n"
     ]
    }
   ],
   "source": [
    "array_list = np.array(object = list_, dtype = int)\n",
    "\n",
    "# the data type has been changed to integer\n",
    "\n",
    "print(type(array_list[0]))"
   ]
  },
  {
   "cell_type": "markdown",
   "id": "8a4ffa29",
   "metadata": {},
   "source": [
    "## Q4. Write a code to find the following characteristics of variable, num_array: (i)\t shape (ii) size"
   ]
  },
  {
   "cell_type": "code",
   "execution_count": 21,
   "id": "0be186ea",
   "metadata": {},
   "outputs": [
    {
     "name": "stdout",
     "output_type": "stream",
     "text": [
      "shape :  (2, 3)\n",
      "size :  6\n"
     ]
    }
   ],
   "source": [
    "import numpy as np\n",
    "\n",
    "num_list = [ [ 1 , 2 , 3 ] , [ 4 , 5 , 6 ] ]\n",
    "\n",
    "num_array = np.array(object = num_list)\n",
    "\n",
    "print(\"shape : \",num_array.shape)\n",
    "print(\"size : \",num_array.size)"
   ]
  },
  {
   "cell_type": "markdown",
   "id": "8d979505",
   "metadata": {},
   "source": [
    "## Q5. Write a code to create numpy array of 3*3 matrix containing zeros only, using a numpy arraycreation function."
   ]
  },
  {
   "cell_type": "code",
   "execution_count": 25,
   "id": "f869b4b5",
   "metadata": {},
   "outputs": [
    {
     "name": "stdout",
     "output_type": "stream",
     "text": [
      "[[0 0 0]\n",
      " [0 0 0]\n",
      " [0 0 0]]\n",
      "<class 'numpy.ndarray'>\n"
     ]
    }
   ],
   "source": [
    "var =np.zeros((3,3),int)\n",
    "print(var)\n",
    "print(type(var))\n"
   ]
  },
  {
   "cell_type": "markdown",
   "id": "e4b64352",
   "metadata": {},
   "source": [
    "## Q6  Create an identity matrix of shape (5,5) using numpy functions?"
   ]
  },
  {
   "cell_type": "code",
   "execution_count": 26,
   "id": "238f0540",
   "metadata": {},
   "outputs": [
    {
     "name": "stdout",
     "output_type": "stream",
     "text": [
      "[[1. 0. 0. 0. 0.]\n",
      " [0. 1. 0. 0. 0.]\n",
      " [0. 0. 1. 0. 0.]\n",
      " [0. 0. 0. 1. 0.]\n",
      " [0. 0. 0. 0. 1.]]\n",
      "<class 'numpy.ndarray'>\n"
     ]
    }
   ],
   "source": [
    "var2=np.eye(5)\n",
    "print(var2)\n",
    "print(type(var2))"
   ]
  },
  {
   "cell_type": "code",
   "execution_count": null,
   "id": "37dab72b",
   "metadata": {},
   "outputs": [],
   "source": []
  }
 ],
 "metadata": {
  "kernelspec": {
   "display_name": "Python 3 (ipykernel)",
   "language": "python",
   "name": "python3"
  },
  "language_info": {
   "codemirror_mode": {
    "name": "ipython",
    "version": 3
   },
   "file_extension": ".py",
   "mimetype": "text/x-python",
   "name": "python",
   "nbconvert_exporter": "python",
   "pygments_lexer": "ipython3",
   "version": "3.11.1"
  }
 },
 "nbformat": 4,
 "nbformat_minor": 5
}
