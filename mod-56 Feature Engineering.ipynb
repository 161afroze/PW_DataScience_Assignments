{
 "cells": [
  {
   "cell_type": "markdown",
   "id": "ed8ee2c8",
   "metadata": {},
   "source": [
    "## 1) What is Min-Max scaling, and how is it used in data preprocessing? Provide an example to illustrate itsapplication."
   ]
  },
  {
   "cell_type": "markdown",
   "id": "92aa31af",
   "metadata": {},
   "source": [
    "MinMaxScaling is one of feature scaling technique. it uses the formual for scaling the data and the formula is as follows :\n",
    "\n",
    "\n",
    "xi -xmin / xmax -xmin -> this is the fomrula for MinMaxScaling \n",
    "\n",
    "we can perform this using the sklearn library by importing the MinMaxScaler "
   ]
  },
  {
   "cell_type": "markdown",
   "id": "58c10364",
   "metadata": {},
   "source": [
    "## 2) What is the Unit Vector technique in feature scaling, and how does it differ from Min-Max scaling?Provide an example to illustrate its application."
   ]
  },
  {
   "cell_type": "markdown",
   "id": "c62d9cce",
   "metadata": {},
   "source": [
    "unit vector techique uses the unit vector formula . in this the magnitude of vector is calcuated then the unit vector value is calculated \n",
    "while min max scaler uses min max formula for scaling \n",
    "\n",
    "we can peform this scaling technique using the sklearn library by importing the normalizer class"
   ]
  },
  {
   "cell_type": "markdown",
   "id": "ff38abad",
   "metadata": {},
   "source": [
    "## 3) What is PCA (Principle Component Analysis), and how is it used in dimensionality reduction? Provide anexample to illustrate its application."
   ]
  },
  {
   "cell_type": "markdown",
   "id": "22640e65",
   "metadata": {},
   "source": [
    "principal component analysis is a feature extraction method where the dimensional reduction is perfomed .In this method the dimensions of the data are brought down to the one dimensional space without loosing the significant features of the data. but still there is losos of data in the PCA process"
   ]
  },
  {
   "cell_type": "markdown",
   "id": "13fce5dd",
   "metadata": {},
   "source": [
    "## 4) Q4. What is the relationship between PCA and Feature Extraction, and how can PCA be used for FeatureExtraction? Provide an example to illustrate this concept."
   ]
  },
  {
   "cell_type": "markdown",
   "id": "5585697f",
   "metadata": {},
   "source": [
    "## 5)You are working on a project to build a recommendation system for a food delivery service. The datasetcontains features such as price, rating, and delivery time. Explain how you would use Min-Max scaling topreprocess the data."
   ]
  },
  {
   "cell_type": "markdown",
   "id": "b1af3598",
   "metadata": {},
   "source": [
    "we can bring this down to the single individual scale by the means of min max formula\n",
    "\n",
    "we can either calculate the values and substitute in the formula orelse smarlty use the sklearn library"
   ]
  },
  {
   "cell_type": "code",
   "execution_count": 7,
   "id": "81f217a5",
   "metadata": {},
   "outputs": [
    {
     "data": {
      "text/plain": [
       "array([[1.        , 1.        , 1.        ],\n",
       "       [0.        , 0.        , 0.        ],\n",
       "       [0.23502304, 0.20568562, 0.17763158]])"
      ]
     },
     "execution_count": 7,
     "metadata": {},
     "output_type": "execute_result"
    }
   ],
   "source": [
    "from sklearn.preprocessing import MinMaxScaler\n",
    "import pandas as pd\n",
    "\n",
    "price=[113,125,155]\n",
    "rating=[4.5,5.4,3]\n",
    "delivery_time=[30,30,30]\n",
    "\n",
    "\n",
    "data=pd.DataFrame([price,rating,delivery_time])\n",
    "\n",
    "scaler=MinMaxScaler()\n",
    "\n",
    "formatted_data=scaler.fit_transform(data)\n",
    "\n",
    "formatted_data\n",
    "\n"
   ]
  },
  {
   "cell_type": "markdown",
   "id": "d14e9c94",
   "metadata": {},
   "source": [
    "## 6) You are working on a project to build a model to predict stock prices. The dataset contains manyfeatures, such as company financial data and market trends. Explain how you would use PCA to reduce thedimensionality of the dataset."
   ]
  },
  {
   "cell_type": "markdown",
   "id": "ca52c7c2",
   "metadata": {},
   "source": []
  },
  {
   "cell_type": "markdown",
   "id": "7b2db650",
   "metadata": {},
   "source": [
    "## 7) For a dataset containing the following values: [1, 5, 10, 15, 20], perform Min-Max scaling to transform thevalues to a range of -1 to 1"
   ]
  },
  {
   "cell_type": "code",
   "execution_count": 10,
   "id": "9d6ca126",
   "metadata": {},
   "outputs": [
    {
     "data": {
      "text/plain": [
       "array([[0.        ],\n",
       "       [0.21052632],\n",
       "       [0.47368421],\n",
       "       [0.73684211],\n",
       "       [1.        ]])"
      ]
     },
     "execution_count": 10,
     "metadata": {},
     "output_type": "execute_result"
    }
   ],
   "source": [
    "import numpy as np\n",
    "data=np.array([1, 5, 10, 15, 20]).reshape(-1,1)\n",
    "formatted_data=scaler.fit_transform(data)\n",
    "formatted_data"
   ]
  },
  {
   "cell_type": "markdown",
   "id": "5e5059dc",
   "metadata": {},
   "source": [
    "## 8) . For a dataset containing the following features: [height, weight, age, gender, blood pressure], performFeature Extraction using PCA. How many principal components would you choose to retain, and why?"
   ]
  },
  {
   "cell_type": "code",
   "execution_count": null,
   "id": "1453e478",
   "metadata": {},
   "outputs": [],
   "source": []
  }
 ],
 "metadata": {
  "kernelspec": {
   "display_name": "Python 3",
   "language": "python",
   "name": "python3"
  },
  "language_info": {
   "codemirror_mode": {
    "name": "ipython",
    "version": 3
   },
   "file_extension": ".py",
   "mimetype": "text/x-python",
   "name": "python",
   "nbconvert_exporter": "python",
   "pygments_lexer": "ipython3",
   "version": "3.11.1"
  }
 },
 "nbformat": 4,
 "nbformat_minor": 5
}
