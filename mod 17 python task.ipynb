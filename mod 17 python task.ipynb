{
 "cells": [
  {
   "cell_type": "markdown",
   "id": "dbebb45c",
   "metadata": {},
   "source": [
    "### Q1. You are writing code for a company. The requirement of the company is that you create a pythonfunction that will checkwhether the password entered by the user is correct or not. The function shouldtake the password as input and return the string “Valid Password” if the entered password follows thebelow-given password guidelines else it should return “Invalid Password”.\n",
    "\n",
    "Note:\n",
    " 1. The Password should contain at least two uppercase letters and at least two lowercase letters.\n",
    "\n",
    "\n",
    "2. The Password should contain at least a number and three special characters.\n",
    "\n",
    "3. The length of the password should be 10 characters long."
   ]
  },
  {
   "cell_type": "code",
   "execution_count": 31,
   "id": "0ec268b0",
   "metadata": {},
   "outputs": [
    {
     "name": "stdout",
     "output_type": "stream",
     "text": [
      "False\n",
      "True\n"
     ]
    }
   ],
   "source": [
    "def passwordchekcer(password):\n",
    "    num_count=0\n",
    "    upper_count=0\n",
    "    lower_count=0\n",
    "    special_count=0\n",
    "\n",
    "    if len(password)<10: return False\n",
    "\n",
    "    for i in password:\n",
    "\n",
    "        if i.isupper(): upper_count+=1\n",
    "        if i.islower(): lower_count+=1\n",
    "        if i.isnumeric() : num_count+=1\n",
    "        if not i.isalnum() : special_count+=1\n",
    "\n",
    "    return upper_count>=2 and lower_count>=2 and num_count>=1 and special_count>=3\n",
    "\n",
    "\n",
    "print(passwordchekcer(\"shaaAfroze1611#@$\"))\n",
    "print(passwordchekcer(\"ShaaAfrozE1611#@$\"))"
   ]
  },
  {
   "cell_type": "code",
   "execution_count": null,
   "id": "f6d6e0b6",
   "metadata": {},
   "outputs": [],
   "source": []
  },
  {
   "cell_type": "markdown",
   "id": "5653eaae",
   "metadata": {},
   "source": [
    "### Q2. Solve the below-given questions using at least one of the following:\n",
    "1. Lambda function\n",
    "2. Filter function\n",
    "3. map function\n",
    "4. List Comprehension"
   ]
  },
  {
   "cell_type": "markdown",
   "id": "ae0aa926",
   "metadata": {},
   "source": [
    "### Find the squares of numbers from 1 to 10"
   ]
  },
  {
   "cell_type": "code",
   "execution_count": 1,
   "id": "0492edce",
   "metadata": {},
   "outputs": [
    {
     "name": "stdout",
     "output_type": "stream",
     "text": [
      "[1, 4, 9, 16, 25, 36, 49, 64, 81, 100]\n"
     ]
    }
   ],
   "source": [
    "print(list(map(lambda x : x**2,range(1,11))))"
   ]
  },
  {
   "cell_type": "markdown",
   "id": "4fb3f5d7",
   "metadata": {},
   "source": [
    "### Find the cube root of numbers from 1 to 10"
   ]
  },
  {
   "cell_type": "code",
   "execution_count": 2,
   "id": "e20ae2a0",
   "metadata": {},
   "outputs": [
    {
     "name": "stdout",
     "output_type": "stream",
     "text": [
      "[1, 8, 27, 64, 125, 216, 343, 512, 729, 1000]\n"
     ]
    }
   ],
   "source": [
    "print(list(map(lambda x : x**3,range(1,11))))"
   ]
  },
  {
   "cell_type": "markdown",
   "id": "ff52f08e",
   "metadata": {},
   "source": [
    "### Check if the string is numeric"
   ]
  },
  {
   "cell_type": "code",
   "execution_count": 17,
   "id": "405af2f1",
   "metadata": {},
   "outputs": [
    {
     "name": "stdout",
     "output_type": "stream",
     "text": [
      "the string is numeric\n"
     ]
    }
   ],
   "source": [
    "number=\"90800\"\n",
    "\n",
    "mylist=[True if i.isnumeric() else False for i in number]\n",
    "\n",
    "if len(number)==sum(mylist):\n",
    "    print(\"the string is numeric\")\n",
    "else:\n",
    "    print(\"the string is not  numeric\")\n"
   ]
  },
  {
   "cell_type": "markdown",
   "id": "d8a53495",
   "metadata": {},
   "source": [
    "### Sort a list of integers into positive and negative integers lists.[1,2,3,4,5,6,-1,-2,-3,-4,-5,0]"
   ]
  },
  {
   "cell_type": "code",
   "execution_count": 19,
   "id": "68066ee5",
   "metadata": {},
   "outputs": [
    {
     "name": "stdout",
     "output_type": "stream",
     "text": [
      "[1, 2, 3, 4, 5, 6, 0]\n",
      "[-1, -2, -3, -4, -5]\n"
     ]
    }
   ],
   "source": [
    "\n",
    "orignals=[1,2,3,4,5,6,-1,-2,-3,-4,-5,0]\n",
    "positive=list(filter(lambda x: x>=0,orignals))\n",
    "negative=list(filter(lambda x: x<0,orignals))\n",
    "print(positive)\n",
    "print(negative)"
   ]
  },
  {
   "cell_type": "markdown",
   "id": "f732ea76",
   "metadata": {},
   "source": [
    "###  Filter odd numbers from the given list.[1,2,3,4,5,6,7,8,9,10]"
   ]
  },
  {
   "cell_type": "code",
   "execution_count": 21,
   "id": "d06be15f",
   "metadata": {},
   "outputs": [
    {
     "data": {
      "text/plain": [
       "[1, 3, 5, 7, 9]"
      ]
     },
     "execution_count": 21,
     "metadata": {},
     "output_type": "execute_result"
    }
   ],
   "source": [
    " \n",
    "numbers=[1,2,3,4,5,6,7,8,9,10]\n",
    "odd_numbers=list(filter(lambda x : x%2!=0 , numbers))\n",
    "odd_numbers"
   ]
  },
  {
   "cell_type": "markdown",
   "id": "877c3e37",
   "metadata": {},
   "source": [
    " ### Check if the string starts with a particular letter"
   ]
  },
  {
   "cell_type": "code",
   "execution_count": 24,
   "id": "3faf533c",
   "metadata": {},
   "outputs": [
    {
     "name": "stdout",
     "output_type": "stream",
     "text": [
      "True\n"
     ]
    }
   ],
   "source": [
    "vowels='aeiou'\n",
    "particular=\"Afroze\"\n",
    "particular=particular.lower()\n",
    "print(particular[0] in vowels)\n"
   ]
  },
  {
   "cell_type": "markdown",
   "id": "1d058fb0",
   "metadata": {},
   "source": [
    "### Check if a given number is even"
   ]
  },
  {
   "cell_type": "code",
   "execution_count": 26,
   "id": "6765b5c1",
   "metadata": {},
   "outputs": [
    {
     "name": "stdout",
     "output_type": "stream",
     "text": [
      "False\n",
      "True\n"
     ]
    }
   ],
   "source": [
    "number=lambda x :x %2==0\n",
    "print(number(9))\n",
    "print(number(8))"
   ]
  },
  {
   "cell_type": "markdown",
   "id": "86cc55db",
   "metadata": {},
   "source": []
  },
  {
   "cell_type": "markdown",
   "id": "16f84af9",
   "metadata": {},
   "source": []
  },
  {
   "cell_type": "markdown",
   "id": "d46d33b1",
   "metadata": {},
   "source": []
  },
  {
   "cell_type": "markdown",
   "id": "44cff8c1",
   "metadata": {},
   "source": []
  },
  {
   "cell_type": "markdown",
   "id": "cd0b1b60",
   "metadata": {},
   "source": []
  }
 ],
 "metadata": {
  "kernelspec": {
   "display_name": "Python 3",
   "language": "python",
   "name": "python3"
  },
  "language_info": {
   "codemirror_mode": {
    "name": "ipython",
    "version": 3
   },
   "file_extension": ".py",
   "mimetype": "text/x-python",
   "name": "python",
   "nbconvert_exporter": "python",
   "pygments_lexer": "ipython3",
   "version": "3.11.1"
  }
 },
 "nbformat": 4,
 "nbformat_minor": 5
}
